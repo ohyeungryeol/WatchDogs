{
 "cells": [
  {
   "cell_type": "code",
   "execution_count": 1,
   "id": "4fb3af4b",
   "metadata": {},
   "outputs": [],
   "source": [
    "!pip install graphistry -q"
   ]
  },
  {
   "cell_type": "code",
   "execution_count": 5,
   "id": "ef97bc5a",
   "metadata": {},
   "outputs": [
    {
     "name": "stderr",
     "output_type": "stream",
     "text": [
      " Certificate did not match expected hostname: labs.graphistry.com. Certificate: {'subject': ((('commonName', 'us1002.siteground.us'),),), 'issuer': ((('countryName', 'US'),), (('organizationName', \"Let's Encrypt\"),), (('commonName', 'R3'),)), 'version': 3, 'serialNumber': '03C09D6E51F45E5916BFACD8E0F573982A8D', 'notBefore': 'Nov 20 07:47:53 2022 GMT', 'notAfter': 'Feb 18 07:47:52 2023 GMT', 'subjectAltName': (('DNS', 'us1002.siteground.us'),), 'OCSP': ('http://r3.o.lencr.org',), 'caIssuers': ('http://r3.i.lencr.org/',)}\n",
      "\n"
     ]
    }
   ],
   "source": [
    "import pandas as pd\n",
    "import graphistry\n",
    "graphistry.register(key='RMHF473KTWHIXMFX',server='labs.graphistry.com')"
   ]
  },
  {
   "cell_type": "code",
   "execution_count": 18,
   "id": "6818efca",
   "metadata": {},
   "outputs": [
    {
     "name": "stdout",
     "output_type": "stream",
     "text": [
      "Requirement already satisfied: graphistry in c:\\users\\user\\anaconda3\\lib\\site-packages (0.28.5)\n",
      "Requirement already satisfied: pyarrow>=0.15.0 in c:\\users\\user\\anaconda3\\lib\\site-packages (from graphistry) (10.0.1)\n",
      "Requirement already satisfied: pandas>=0.17.0 in c:\\users\\user\\anaconda3\\lib\\site-packages (from graphistry) (1.4.2)\n",
      "Requirement already satisfied: squarify in c:\\users\\user\\anaconda3\\lib\\site-packages (from graphistry) (0.4.3)\n",
      "Requirement already satisfied: packaging>=20.1 in c:\\users\\user\\anaconda3\\lib\\site-packages (from graphistry) (21.3)\n",
      "Requirement already satisfied: numpy in c:\\users\\user\\anaconda3\\lib\\site-packages (from graphistry) (1.21.5)\n",
      "Requirement already satisfied: palettable>=3.0 in c:\\users\\user\\anaconda3\\lib\\site-packages (from graphistry) (3.3.0)\n",
      "Requirement already satisfied: requests in c:\\users\\user\\anaconda3\\lib\\site-packages (from graphistry) (2.27.1)\n",
      "Requirement already satisfied: typing-extensions in c:\\users\\user\\anaconda3\\lib\\site-packages (from graphistry) (4.1.1)\n",
      "Requirement already satisfied: pyparsing!=3.0.5,>=2.0.2 in c:\\users\\user\\anaconda3\\lib\\site-packages (from packaging>=20.1->graphistry) (3.0.4)\n",
      "Requirement already satisfied: pytz>=2020.1 in c:\\users\\user\\anaconda3\\lib\\site-packages (from pandas>=0.17.0->graphistry) (2021.3)\n",
      "Requirement already satisfied: python-dateutil>=2.8.1 in c:\\users\\user\\anaconda3\\lib\\site-packages (from pandas>=0.17.0->graphistry) (2.8.2)\n",
      "Requirement already satisfied: six>=1.5 in c:\\users\\user\\anaconda3\\lib\\site-packages (from python-dateutil>=2.8.1->pandas>=0.17.0->graphistry) (1.16.0)\n",
      "Requirement already satisfied: certifi>=2017.4.17 in c:\\users\\user\\anaconda3\\lib\\site-packages (from requests->graphistry) (2022.9.24)\n",
      "Requirement already satisfied: idna<4,>=2.5 in c:\\users\\user\\anaconda3\\lib\\site-packages (from requests->graphistry) (3.3)\n",
      "Requirement already satisfied: urllib3<1.27,>=1.21.1 in c:\\users\\user\\anaconda3\\lib\\site-packages (from requests->graphistry) (1.26.9)\n",
      "Requirement already satisfied: charset-normalizer~=2.0.0 in c:\\users\\user\\anaconda3\\lib\\site-packages (from requests->graphistry) (2.0.4)\n",
      "0.28.5\n"
     ]
    }
   ],
   "source": [
    "! pip install --user graphistry\n",
    "import graphistry\n",
    "print(graphistry.__version__)\n",
    "\n",
    "graphistry.register(api=3, protocol=\"https\", server=\"hub.graphistry.com\", username=\"ddosby\", password=\"tnsmd690@\")    "
   ]
  },
  {
   "cell_type": "code",
   "execution_count": 19,
   "id": "e39f2bdd",
   "metadata": {},
   "outputs": [
    {
     "name": "stdout",
     "output_type": "stream",
     "text": [
      "# rows 124969\n"
     ]
    },
    {
     "name": "stderr",
     "output_type": "stream",
     "text": [
      "C:\\Users\\user\\AppData\\Local\\Temp\\ipykernel_11236\\2339144074.py:2: DtypeWarning: Columns (3,7,13,14,17,21) have mixed types. Specify dtype option on import or set low_memory=False.\n",
      "  df = pd.read_csv(file_path)\n"
     ]
    },
    {
     "data": {
      "text/html": [
       "<div>\n",
       "<style scoped>\n",
       "    .dataframe tbody tr th:only-of-type {\n",
       "        vertical-align: middle;\n",
       "    }\n",
       "\n",
       "    .dataframe tbody tr th {\n",
       "        vertical-align: top;\n",
       "    }\n",
       "\n",
       "    .dataframe thead th {\n",
       "        text-align: right;\n",
       "    }\n",
       "</style>\n",
       "<table border=\"1\" class=\"dataframe\">\n",
       "  <thead>\n",
       "    <tr style=\"text-align: right;\">\n",
       "      <th></th>\n",
       "      <th>id</th>\n",
       "      <th>action</th>\n",
       "      <th>action_classification</th>\n",
       "      <th>action_level</th>\n",
       "      <th>action_summary</th>\n",
       "      <th>authorities_link</th>\n",
       "      <th>country</th>\n",
       "      <th>create_date</th>\n",
       "      <th>data_notes</th>\n",
       "      <th>date</th>\n",
       "      <th>...</th>\n",
       "      <th>status</th>\n",
       "      <th>target_audience</th>\n",
       "      <th>type</th>\n",
       "      <th>uid</th>\n",
       "      <th>uid_hash</th>\n",
       "      <th>url</th>\n",
       "      <th>slug</th>\n",
       "      <th>device_id</th>\n",
       "      <th>created_at</th>\n",
       "      <th>updated_at</th>\n",
       "    </tr>\n",
       "  </thead>\n",
       "  <tbody>\n",
       "    <tr>\n",
       "      <th>70597</th>\n",
       "      <td>70598</td>\n",
       "      <td>NaN</td>\n",
       "      <td>NaN</td>\n",
       "      <td>NaN</td>\n",
       "      <td>NaN</td>\n",
       "      <td>https://www.valvira.fi/web/en/front-page</td>\n",
       "      <td>FIN</td>\n",
       "      <td>NaN</td>\n",
       "      <td>Source: FSCA</td>\n",
       "      <td>2017-05-19</td>\n",
       "      <td>...</td>\n",
       "      <td>NaN</td>\n",
       "      <td>NaN</td>\n",
       "      <td>Recall</td>\n",
       "      <td>2017-0942</td>\n",
       "      <td>08d201c7</td>\n",
       "      <td>NaN</td>\n",
       "      <td>fin-willscher-sarja-willscher-neulat-willscher...</td>\n",
       "      <td>66705</td>\n",
       "      <td>2022-08-04 09:23:49 UTC</td>\n",
       "      <td>2022-08-04 09:23:49 UTC</td>\n",
       "    </tr>\n",
       "    <tr>\n",
       "      <th>74647</th>\n",
       "      <td>74648</td>\n",
       "      <td>NaN</td>\n",
       "      <td>NaN</td>\n",
       "      <td>NaN</td>\n",
       "      <td>NaN</td>\n",
       "      <td>https://www.swissmedic.ch/swissmedic/de/home.html</td>\n",
       "      <td>CHE</td>\n",
       "      <td>NaN</td>\n",
       "      <td>NaN</td>\n",
       "      <td>NaN</td>\n",
       "      <td>...</td>\n",
       "      <td>NaN</td>\n",
       "      <td>NaN</td>\n",
       "      <td>Field Safety Notice</td>\n",
       "      <td>Vk_20150612_03</td>\n",
       "      <td>1c0d0374</td>\n",
       "      <td>https://fsca.swissmedic.ch/mep/#?q=Vk_20150612_03</td>\n",
       "      <td>che-da-vinci-xi-endowrist-instruments</td>\n",
       "      <td>70655</td>\n",
       "      <td>2022-08-04 09:29:15 UTC</td>\n",
       "      <td>2022-08-04 09:29:15 UTC</td>\n",
       "    </tr>\n",
       "    <tr>\n",
       "      <th>12145</th>\n",
       "      <td>12146</td>\n",
       "      <td>Lots 56568M200; 58332M200; 60275M300; 60278M30...</td>\n",
       "      <td>NaN</td>\n",
       "      <td>NaN</td>\n",
       "      <td>Removal of reagent called IMx Hemoglobin Glycae</td>\n",
       "      <td>https://www.ansm.sante.fr/</td>\n",
       "      <td>FRA</td>\n",
       "      <td>NaN</td>\n",
       "      <td>NaN</td>\n",
       "      <td>2000-02-16</td>\n",
       "      <td>...</td>\n",
       "      <td>NaN</td>\n",
       "      <td>NaN</td>\n",
       "      <td>Recall</td>\n",
       "      <td>NaN</td>\n",
       "      <td>NaN</td>\n",
       "      <td>https://ansm.sante.fr/S-informer/Informations-...</td>\n",
       "      <td>fra-imx-hemoglobin-glyque</td>\n",
       "      <td>11424</td>\n",
       "      <td>2022-08-04 08:32:14 UTC</td>\n",
       "      <td>2022-08-04 08:32:14 UTC</td>\n",
       "    </tr>\n",
       "  </tbody>\n",
       "</table>\n",
       "<p>3 rows × 30 columns</p>\n",
       "</div>"
      ],
      "text/plain": [
       "          id                                             action  \\\n",
       "70597  70598                                                NaN   \n",
       "74647  74648                                                NaN   \n",
       "12145  12146  Lots 56568M200; 58332M200; 60275M300; 60278M30...   \n",
       "\n",
       "      action_classification action_level  \\\n",
       "70597                   NaN          NaN   \n",
       "74647                   NaN          NaN   \n",
       "12145                   NaN          NaN   \n",
       "\n",
       "                                        action_summary  \\\n",
       "70597                                              NaN   \n",
       "74647                                              NaN   \n",
       "12145  Removal of reagent called IMx Hemoglobin Glycae   \n",
       "\n",
       "                                        authorities_link country create_date  \\\n",
       "70597           https://www.valvira.fi/web/en/front-page     FIN         NaN   \n",
       "74647  https://www.swissmedic.ch/swissmedic/de/home.html     CHE         NaN   \n",
       "12145                         https://www.ansm.sante.fr/     FRA         NaN   \n",
       "\n",
       "         data_notes        date  ... status target_audience  \\\n",
       "70597  Source: FSCA  2017-05-19  ...    NaN             NaN   \n",
       "74647           NaN         NaN  ...    NaN             NaN   \n",
       "12145           NaN  2000-02-16  ...    NaN             NaN   \n",
       "\n",
       "                      type             uid  uid_hash  \\\n",
       "70597               Recall       2017-0942  08d201c7   \n",
       "74647  Field Safety Notice  Vk_20150612_03  1c0d0374   \n",
       "12145               Recall             NaN       NaN   \n",
       "\n",
       "                                                     url  \\\n",
       "70597                                                NaN   \n",
       "74647  https://fsca.swissmedic.ch/mep/#?q=Vk_20150612_03   \n",
       "12145  https://ansm.sante.fr/S-informer/Informations-...   \n",
       "\n",
       "                                                    slug device_id  \\\n",
       "70597  fin-willscher-sarja-willscher-neulat-willscher...     66705   \n",
       "74647              che-da-vinci-xi-endowrist-instruments     70655   \n",
       "12145                          fra-imx-hemoglobin-glyque     11424   \n",
       "\n",
       "                    created_at               updated_at  \n",
       "70597  2022-08-04 09:23:49 UTC  2022-08-04 09:23:49 UTC  \n",
       "74647  2022-08-04 09:29:15 UTC  2022-08-04 09:29:15 UTC  \n",
       "12145  2022-08-04 08:32:14 UTC  2022-08-04 08:32:14 UTC  \n",
       "\n",
       "[3 rows x 30 columns]"
      ]
     },
     "execution_count": 19,
     "metadata": {},
     "output_type": "execute_result"
    }
   ],
   "source": [
    "file_path = './events-1660209485.csv'\n",
    "df = pd.read_csv(file_path)\n",
    "\n",
    "print('# rows', len(df))\n",
    "df.sample(min(len(df), 3))"
   ]
  },
  {
   "cell_type": "code",
   "execution_count": null,
   "id": "48c335c6",
   "metadata": {},
   "outputs": [],
   "source": [
    "AB4YK549FH\n",
    "RMHF473KTWHIXMFX"
   ]
  },
  {
   "cell_type": "code",
   "execution_count": 20,
   "id": "11bdebee",
   "metadata": {},
   "outputs": [
    {
     "data": {
      "text/html": [
       "<div>\n",
       "<style scoped>\n",
       "    .dataframe tbody tr th:only-of-type {\n",
       "        vertical-align: middle;\n",
       "    }\n",
       "\n",
       "    .dataframe tbody tr th {\n",
       "        vertical-align: top;\n",
       "    }\n",
       "\n",
       "    .dataframe thead th {\n",
       "        text-align: right;\n",
       "    }\n",
       "</style>\n",
       "<table border=\"1\" class=\"dataframe\">\n",
       "  <thead>\n",
       "    <tr style=\"text-align: right;\">\n",
       "      <th></th>\n",
       "      <th>id</th>\n",
       "      <th>action</th>\n",
       "      <th>action_classification</th>\n",
       "      <th>action_level</th>\n",
       "      <th>action_summary</th>\n",
       "      <th>authorities_link</th>\n",
       "      <th>country</th>\n",
       "      <th>create_date</th>\n",
       "      <th>data_notes</th>\n",
       "      <th>date</th>\n",
       "      <th>...</th>\n",
       "      <th>status</th>\n",
       "      <th>target_audience</th>\n",
       "      <th>type</th>\n",
       "      <th>uid</th>\n",
       "      <th>uid_hash</th>\n",
       "      <th>url</th>\n",
       "      <th>slug</th>\n",
       "      <th>device_id</th>\n",
       "      <th>created_at</th>\n",
       "      <th>updated_at</th>\n",
       "    </tr>\n",
       "  </thead>\n",
       "  <tbody>\n",
       "    <tr>\n",
       "      <th>104111</th>\n",
       "      <td>104112</td>\n",
       "      <td>Multi-Med issued an Urgent: Medical Device Rec...</td>\n",
       "      <td>Class 1</td>\n",
       "      <td>NaN</td>\n",
       "      <td>NaN</td>\n",
       "      <td>https://www.fda.gov/default.htm</td>\n",
       "      <td>USA</td>\n",
       "      <td>NaN</td>\n",
       "      <td>Hypodermic Single Lumen Needle - Product Code FMI</td>\n",
       "      <td>NaN</td>\n",
       "      <td>...</td>\n",
       "      <td>Terminated</td>\n",
       "      <td>NaN</td>\n",
       "      <td>Recall</td>\n",
       "      <td>56548</td>\n",
       "      <td>0325010d</td>\n",
       "      <td>https://www.accessdata.fda.gov/scripts/cdrh/cf...</td>\n",
       "      <td>usa-device-recall-huber-trapa-safety-huber-nee...</td>\n",
       "      <td>98427</td>\n",
       "      <td>2022-08-04 10:14:44 UTC</td>\n",
       "      <td>2022-08-04 10:14:44 UTC</td>\n",
       "    </tr>\n",
       "    <tr>\n",
       "      <th>64077</th>\n",
       "      <td>64078</td>\n",
       "      <td>NaN</td>\n",
       "      <td>NaN</td>\n",
       "      <td>NaN</td>\n",
       "      <td>NaN</td>\n",
       "      <td>https://www.cecmed.cu/</td>\n",
       "      <td>CUB</td>\n",
       "      <td>NaN</td>\n",
       "      <td>NaN</td>\n",
       "      <td>NaN</td>\n",
       "      <td>...</td>\n",
       "      <td>NaN</td>\n",
       "      <td>NaN</td>\n",
       "      <td>Safety alert</td>\n",
       "      <td>NaN</td>\n",
       "      <td>NaN</td>\n",
       "      <td>https://www.cecmed.cu/vigilancia/equipos-medic...</td>\n",
       "      <td>cub-coronary-angioplasty-guide-model-galeo-a70...</td>\n",
       "      <td>60739</td>\n",
       "      <td>2022-08-04 09:15:48 UTC</td>\n",
       "      <td>2022-08-04 09:15:48 UTC</td>\n",
       "    </tr>\n",
       "    <tr>\n",
       "      <th>58412</th>\n",
       "      <td>58413</td>\n",
       "      <td>The firm, Applied Medical, sent an \"URGENT: ME...</td>\n",
       "      <td>Class 2</td>\n",
       "      <td>NaN</td>\n",
       "      <td>NaN</td>\n",
       "      <td>https://www.fda.gov/default.htm</td>\n",
       "      <td>USA</td>\n",
       "      <td>NaN</td>\n",
       "      <td>Clamp, vascular - Product Code DXC</td>\n",
       "      <td>NaN</td>\n",
       "      <td>...</td>\n",
       "      <td>Terminated</td>\n",
       "      <td>NaN</td>\n",
       "      <td>Recall</td>\n",
       "      <td>59416</td>\n",
       "      <td>0326010a</td>\n",
       "      <td>https://www.accessdata.fda.gov/scripts/cdrh/cf...</td>\n",
       "      <td>usa-device-recall-surgical-clamp-inserts-0326010a</td>\n",
       "      <td>55290</td>\n",
       "      <td>2022-08-04 09:09:14 UTC</td>\n",
       "      <td>2022-08-04 09:09:14 UTC</td>\n",
       "    </tr>\n",
       "  </tbody>\n",
       "</table>\n",
       "<p>3 rows × 30 columns</p>\n",
       "</div>"
      ],
      "text/plain": [
       "            id                                             action  \\\n",
       "104111  104112  Multi-Med issued an Urgent: Medical Device Rec...   \n",
       "64077    64078                                                NaN   \n",
       "58412    58413  The firm, Applied Medical, sent an \"URGENT: ME...   \n",
       "\n",
       "       action_classification action_level action_summary  \\\n",
       "104111               Class 1          NaN            NaN   \n",
       "64077                    NaN          NaN            NaN   \n",
       "58412                Class 2          NaN            NaN   \n",
       "\n",
       "                       authorities_link country create_date  \\\n",
       "104111  https://www.fda.gov/default.htm     USA         NaN   \n",
       "64077            https://www.cecmed.cu/     CUB         NaN   \n",
       "58412   https://www.fda.gov/default.htm     USA         NaN   \n",
       "\n",
       "                                               data_notes date  ...  \\\n",
       "104111  Hypodermic Single Lumen Needle - Product Code FMI  NaN  ...   \n",
       "64077                                                 NaN  NaN  ...   \n",
       "58412                  Clamp, vascular - Product Code DXC  NaN  ...   \n",
       "\n",
       "            status target_audience          type    uid  uid_hash  \\\n",
       "104111  Terminated             NaN        Recall  56548  0325010d   \n",
       "64077          NaN             NaN  Safety alert    NaN       NaN   \n",
       "58412   Terminated             NaN        Recall  59416  0326010a   \n",
       "\n",
       "                                                      url  \\\n",
       "104111  https://www.accessdata.fda.gov/scripts/cdrh/cf...   \n",
       "64077   https://www.cecmed.cu/vigilancia/equipos-medic...   \n",
       "58412   https://www.accessdata.fda.gov/scripts/cdrh/cf...   \n",
       "\n",
       "                                                     slug device_id  \\\n",
       "104111  usa-device-recall-huber-trapa-safety-huber-nee...     98427   \n",
       "64077   cub-coronary-angioplasty-guide-model-galeo-a70...     60739   \n",
       "58412   usa-device-recall-surgical-clamp-inserts-0326010a     55290   \n",
       "\n",
       "                     created_at               updated_at  \n",
       "104111  2022-08-04 10:14:44 UTC  2022-08-04 10:14:44 UTC  \n",
       "64077   2022-08-04 09:15:48 UTC  2022-08-04 09:15:48 UTC  \n",
       "58412   2022-08-04 09:09:14 UTC  2022-08-04 09:09:14 UTC  \n",
       "\n",
       "[3 rows x 30 columns]"
      ]
     },
     "execution_count": 20,
     "metadata": {},
     "output_type": "execute_result"
    }
   ],
   "source": [
    "df = df.rename(columns={\n",
    "   'attackerIP': 'src_ip',\n",
    "    'victimIP': 'dest_ip'\n",
    "})\n",
    "\n",
    "df.sample(3)"
   ]
  },
  {
   "cell_type": "code",
   "execution_count": 21,
   "id": "d9198a65",
   "metadata": {},
   "outputs": [
    {
     "data": {
      "text/plain": [
       "Index(['id', 'action', 'action_classification', 'action_level',\n",
       "       'action_summary', 'authorities_link', 'country', 'create_date',\n",
       "       'data_notes', 'date', 'date_initiated_by_firm', 'date_posted',\n",
       "       'date_terminated', 'date_updated', 'determined_cause', 'documents',\n",
       "       'icij_notes', 'number', 'reason', 'source', 'status', 'target_audience',\n",
       "       'type', 'uid', 'uid_hash', 'url', 'slug', 'device_id', 'created_at',\n",
       "       'updated_at'],\n",
       "      dtype='object')"
      ]
     },
     "execution_count": 21,
     "metadata": {},
     "output_type": "execute_result"
    }
   ],
   "source": [
    "df.columns"
   ]
  },
  {
   "cell_type": "code",
   "execution_count": 22,
   "id": "d7c8ca9e",
   "metadata": {},
   "outputs": [],
   "source": [
    "#Pick 'A', 'B', or 'C'\n",
    "mode = 'B' \n",
    "max_rows = 1000\n",
    "\n",
    "\n",
    "### 'A' == mode\n",
    "my_src_col = 'attackerIP'\n",
    "my_dest_col = 'victimIP'\n",
    "\n",
    "\n",
    "\n",
    "### 'B' == mode\n",
    "node_cols = ['create_date', 'date_initiated_by_firm', 'date_posted','date_terminated','updated_at']\n",
    "categories = { #optional\n",
    "    #'date' : []\n",
    "    #'ip': ['attacker_IP', 'victimIP']\n",
    "    #, 'user': ['owner', 'seller'],\n",
    "}\n",
    "\n",
    "\n",
    "\n",
    "### 'C' == mode\n",
    "edges = {\n",
    "      'attackerIP': [ 'victimIP', 'victimPort', 'vulnName'],\n",
    "      'victimIP': [ 'victimPort'],\n",
    "      'vulnName': [ 'victimIP' ]\n",
    "}\n",
    "categories = { #optional\n",
    "      'ip': ['attackerIP', 'victimIP']\n",
    "       #, user': ['owner', 'seller'], ...\n",
    "}"
   ]
  },
  {
   "cell_type": "code",
   "execution_count": 23,
   "id": "3556cb83",
   "metadata": {},
   "outputs": [
    {
     "name": "stdout",
     "output_type": "stream",
     "text": [
      "# links 2122\n",
      "# events 1000\n",
      "# attrib entities 1926\n",
      "2122\n"
     ]
    },
    {
     "data": {
      "text/html": [
       "\n",
       "            <iframe id=\"031bf7c7-31db-42ef-8148-8e43ac6d4fb8\" src=\"https://hub.graphistry.com/graph/graph.html?dataset=da1ab8328ead4ebcbb4ac1275fe427ff&type=arrow&viztoken=45bf6ecc-e053-42eb-9ac8-b6ffd6f0a98e&usertag=2f7f9fd7-pygraphistry-0.28.5&splashAfter=1669690886&info=true\"\n",
       "                    allowfullscreen=\"true\" webkitallowfullscreen=\"true\" mozallowfullscreen=\"true\"\n",
       "                    oallowfullscreen=\"true\" msallowfullscreen=\"true\"\n",
       "                    style=\"width:100%; height:500px; border: 1px solid #DDD; overflow: hidden\"\n",
       "                    \n",
       "            >\n",
       "            </iframe>\n",
       "        \n",
       "            <script>\n",
       "                try {\n",
       "                  $(\"#031bf7c7-31db-42ef-8148-8e43ac6d4fb8\").bind('mousewheel', function(e) { e.preventDefault(); });\n",
       "                } catch (e) { console.error('exn catching scroll', e); }\n",
       "            </script>\n",
       "        "
      ],
      "text/plain": [
       "<IPython.core.display.HTML object>"
      ]
     },
     "execution_count": 23,
     "metadata": {},
     "output_type": "execute_result"
    }
   ],
   "source": [
    "g = None\n",
    "hg = None\n",
    "num_rows = min(max_rows, len(df))\n",
    "if mode == 'A':\n",
    "    g = graphistry.edges(df.sample(num_rows)).bind(source=my_src_col, destination=my_dest_col)\n",
    "elif mode == 'B':\n",
    "    hg = graphistry.hypergraph(df.sample(num_rows), node_cols, opts={'CATEGORIES': categories})\n",
    "    g = hg['graph']\n",
    "elif mode == 'C':\n",
    "    nodes = list(edges.keys())\n",
    "    for dests in edges.values():\n",
    "        for dest in dests:\n",
    "            nodes.append(dest)\n",
    "    node_cols = list(set(nodes))\n",
    "    hg = graphistry.hypergraph(df.sample(num_rows), node_cols, direct=True, opts={'CATEGORIES': categories, 'EDGES': edges})\n",
    "    g = hg['graph']\n",
    "  \n",
    "#hg\n",
    "print(len(g._edges))\n",
    "\n",
    "g.plot()"
   ]
  },
  {
   "cell_type": "code",
   "execution_count": null,
   "id": "b2d929c0",
   "metadata": {},
   "outputs": [],
   "source": []
  },
  {
   "cell_type": "code",
   "execution_count": null,
   "id": "35c9649e",
   "metadata": {},
   "outputs": [],
   "source": []
  },
  {
   "cell_type": "code",
   "execution_count": null,
   "id": "8ec120be",
   "metadata": {},
   "outputs": [],
   "source": []
  },
  {
   "cell_type": "code",
   "execution_count": null,
   "id": "4f0807b6",
   "metadata": {},
   "outputs": [],
   "source": []
  },
  {
   "cell_type": "code",
   "execution_count": null,
   "id": "84b34958",
   "metadata": {},
   "outputs": [],
   "source": []
  },
  {
   "cell_type": "code",
   "execution_count": null,
   "id": "01b5856e",
   "metadata": {},
   "outputs": [],
   "source": []
  },
  {
   "cell_type": "code",
   "execution_count": null,
   "id": "30b43a7c",
   "metadata": {},
   "outputs": [],
   "source": []
  },
  {
   "cell_type": "code",
   "execution_count": null,
   "id": "37d8c8aa",
   "metadata": {},
   "outputs": [],
   "source": []
  },
  {
   "cell_type": "code",
   "execution_count": null,
   "id": "9ee09915",
   "metadata": {},
   "outputs": [],
   "source": []
  },
  {
   "cell_type": "code",
   "execution_count": null,
   "id": "1fb6a8f9",
   "metadata": {},
   "outputs": [],
   "source": []
  },
  {
   "cell_type": "code",
   "execution_count": null,
   "id": "e346d56e",
   "metadata": {},
   "outputs": [],
   "source": []
  },
  {
   "cell_type": "code",
   "execution_count": null,
   "id": "dac21744",
   "metadata": {},
   "outputs": [],
   "source": []
  },
  {
   "cell_type": "code",
   "execution_count": null,
   "id": "e5af487a",
   "metadata": {},
   "outputs": [],
   "source": []
  },
  {
   "cell_type": "code",
   "execution_count": null,
   "id": "c42495d8",
   "metadata": {},
   "outputs": [],
   "source": []
  },
  {
   "cell_type": "code",
   "execution_count": null,
   "id": "8dd159ed",
   "metadata": {},
   "outputs": [],
   "source": []
  },
  {
   "cell_type": "code",
   "execution_count": null,
   "id": "c20aeafa",
   "metadata": {},
   "outputs": [],
   "source": []
  },
  {
   "cell_type": "code",
   "execution_count": null,
   "id": "60295a3c",
   "metadata": {},
   "outputs": [],
   "source": []
  },
  {
   "cell_type": "code",
   "execution_count": null,
   "id": "2922066a",
   "metadata": {},
   "outputs": [],
   "source": []
  },
  {
   "cell_type": "code",
   "execution_count": null,
   "id": "70413fdb",
   "metadata": {},
   "outputs": [],
   "source": []
  },
  {
   "cell_type": "code",
   "execution_count": null,
   "id": "b34516db",
   "metadata": {},
   "outputs": [],
   "source": []
  },
  {
   "cell_type": "code",
   "execution_count": null,
   "id": "7e9bdcf5",
   "metadata": {},
   "outputs": [],
   "source": []
  },
  {
   "cell_type": "code",
   "execution_count": null,
   "id": "b2f33934",
   "metadata": {},
   "outputs": [],
   "source": []
  },
  {
   "cell_type": "code",
   "execution_count": null,
   "id": "3e3fe31e",
   "metadata": {},
   "outputs": [],
   "source": []
  },
  {
   "cell_type": "code",
   "execution_count": null,
   "id": "293c4c19",
   "metadata": {},
   "outputs": [],
   "source": []
  },
  {
   "cell_type": "code",
   "execution_count": null,
   "id": "6bd0ca54",
   "metadata": {},
   "outputs": [],
   "source": []
  },
  {
   "cell_type": "code",
   "execution_count": null,
   "id": "26998cb7",
   "metadata": {},
   "outputs": [],
   "source": []
  },
  {
   "cell_type": "code",
   "execution_count": null,
   "id": "44f10529",
   "metadata": {},
   "outputs": [],
   "source": []
  },
  {
   "cell_type": "code",
   "execution_count": null,
   "id": "b85e6478",
   "metadata": {},
   "outputs": [],
   "source": []
  },
  {
   "cell_type": "code",
   "execution_count": null,
   "id": "1fe3fbc9",
   "metadata": {},
   "outputs": [],
   "source": []
  },
  {
   "cell_type": "code",
   "execution_count": null,
   "id": "d91b3ab1",
   "metadata": {},
   "outputs": [],
   "source": []
  },
  {
   "cell_type": "code",
   "execution_count": null,
   "id": "c7d7ae65",
   "metadata": {},
   "outputs": [],
   "source": []
  },
  {
   "cell_type": "code",
   "execution_count": null,
   "id": "a7a21109",
   "metadata": {},
   "outputs": [],
   "source": []
  },
  {
   "cell_type": "code",
   "execution_count": null,
   "id": "ecf41251",
   "metadata": {},
   "outputs": [],
   "source": []
  },
  {
   "cell_type": "code",
   "execution_count": null,
   "id": "1b6c89d6",
   "metadata": {},
   "outputs": [],
   "source": []
  },
  {
   "cell_type": "code",
   "execution_count": null,
   "id": "8bb48ac3",
   "metadata": {},
   "outputs": [],
   "source": []
  },
  {
   "cell_type": "code",
   "execution_count": null,
   "id": "cf8d554c",
   "metadata": {},
   "outputs": [],
   "source": []
  },
  {
   "cell_type": "code",
   "execution_count": null,
   "id": "1ac7a14b",
   "metadata": {},
   "outputs": [],
   "source": []
  },
  {
   "cell_type": "code",
   "execution_count": null,
   "id": "6b3f4267",
   "metadata": {},
   "outputs": [],
   "source": []
  },
  {
   "cell_type": "code",
   "execution_count": null,
   "id": "3bb8aa12",
   "metadata": {},
   "outputs": [],
   "source": []
  },
  {
   "cell_type": "code",
   "execution_count": null,
   "id": "4a22c022",
   "metadata": {},
   "outputs": [],
   "source": []
  },
  {
   "cell_type": "code",
   "execution_count": null,
   "id": "57bb4c9f",
   "metadata": {},
   "outputs": [],
   "source": []
  },
  {
   "cell_type": "code",
   "execution_count": null,
   "id": "6c22ac9b",
   "metadata": {},
   "outputs": [],
   "source": []
  },
  {
   "cell_type": "code",
   "execution_count": null,
   "id": "2ecf1c5f",
   "metadata": {},
   "outputs": [],
   "source": []
  },
  {
   "cell_type": "code",
   "execution_count": null,
   "id": "87254fbb",
   "metadata": {},
   "outputs": [],
   "source": []
  },
  {
   "cell_type": "code",
   "execution_count": null,
   "id": "5224476e",
   "metadata": {},
   "outputs": [],
   "source": []
  },
  {
   "cell_type": "code",
   "execution_count": null,
   "id": "e2a839e8",
   "metadata": {},
   "outputs": [],
   "source": []
  },
  {
   "cell_type": "code",
   "execution_count": null,
   "id": "c0310ec0",
   "metadata": {},
   "outputs": [],
   "source": []
  },
  {
   "cell_type": "code",
   "execution_count": null,
   "id": "81fef2e8",
   "metadata": {},
   "outputs": [],
   "source": []
  },
  {
   "cell_type": "code",
   "execution_count": null,
   "id": "82a848bc",
   "metadata": {},
   "outputs": [],
   "source": []
  },
  {
   "cell_type": "code",
   "execution_count": null,
   "id": "53b2ea9f",
   "metadata": {},
   "outputs": [],
   "source": []
  },
  {
   "cell_type": "code",
   "execution_count": null,
   "id": "bff49272",
   "metadata": {},
   "outputs": [],
   "source": []
  },
  {
   "cell_type": "code",
   "execution_count": null,
   "id": "c3d2db0d",
   "metadata": {},
   "outputs": [],
   "source": []
  },
  {
   "cell_type": "code",
   "execution_count": null,
   "id": "004d8402",
   "metadata": {},
   "outputs": [],
   "source": []
  },
  {
   "cell_type": "code",
   "execution_count": null,
   "id": "df5731fd",
   "metadata": {},
   "outputs": [],
   "source": []
  },
  {
   "cell_type": "code",
   "execution_count": null,
   "id": "b45ad7bd",
   "metadata": {},
   "outputs": [],
   "source": []
  },
  {
   "cell_type": "code",
   "execution_count": null,
   "id": "e59e2e7b",
   "metadata": {},
   "outputs": [],
   "source": []
  },
  {
   "cell_type": "code",
   "execution_count": null,
   "id": "74596d20",
   "metadata": {},
   "outputs": [],
   "source": []
  },
  {
   "cell_type": "code",
   "execution_count": null,
   "id": "f71255bd",
   "metadata": {},
   "outputs": [],
   "source": []
  },
  {
   "cell_type": "code",
   "execution_count": null,
   "id": "68d068d6",
   "metadata": {},
   "outputs": [],
   "source": []
  },
  {
   "cell_type": "code",
   "execution_count": null,
   "id": "0072615f",
   "metadata": {},
   "outputs": [],
   "source": []
  },
  {
   "cell_type": "code",
   "execution_count": null,
   "id": "30089e72",
   "metadata": {},
   "outputs": [],
   "source": []
  },
  {
   "cell_type": "code",
   "execution_count": null,
   "id": "721736c8",
   "metadata": {},
   "outputs": [],
   "source": []
  },
  {
   "cell_type": "code",
   "execution_count": null,
   "id": "e2856c4c",
   "metadata": {},
   "outputs": [],
   "source": []
  },
  {
   "cell_type": "code",
   "execution_count": null,
   "id": "3219d726",
   "metadata": {},
   "outputs": [],
   "source": []
  },
  {
   "cell_type": "code",
   "execution_count": null,
   "id": "10917ac6",
   "metadata": {},
   "outputs": [],
   "source": []
  },
  {
   "cell_type": "code",
   "execution_count": null,
   "id": "8b8d434c",
   "metadata": {},
   "outputs": [],
   "source": []
  },
  {
   "cell_type": "code",
   "execution_count": null,
   "id": "96308669",
   "metadata": {},
   "outputs": [],
   "source": []
  },
  {
   "cell_type": "code",
   "execution_count": null,
   "id": "b1a79085",
   "metadata": {},
   "outputs": [],
   "source": []
  },
  {
   "cell_type": "code",
   "execution_count": null,
   "id": "54540aa5",
   "metadata": {},
   "outputs": [],
   "source": []
  },
  {
   "cell_type": "code",
   "execution_count": null,
   "id": "ec38f46e",
   "metadata": {},
   "outputs": [],
   "source": []
  },
  {
   "cell_type": "code",
   "execution_count": null,
   "id": "7987b1c5",
   "metadata": {},
   "outputs": [],
   "source": []
  },
  {
   "cell_type": "code",
   "execution_count": null,
   "id": "4e135a23",
   "metadata": {},
   "outputs": [],
   "source": []
  },
  {
   "cell_type": "code",
   "execution_count": null,
   "id": "7b0a6364",
   "metadata": {},
   "outputs": [],
   "source": []
  },
  {
   "cell_type": "code",
   "execution_count": null,
   "id": "f49995d1",
   "metadata": {},
   "outputs": [],
   "source": []
  },
  {
   "cell_type": "code",
   "execution_count": null,
   "id": "8e900e98",
   "metadata": {},
   "outputs": [],
   "source": []
  },
  {
   "cell_type": "code",
   "execution_count": null,
   "id": "21d26cfb",
   "metadata": {},
   "outputs": [],
   "source": []
  },
  {
   "cell_type": "code",
   "execution_count": null,
   "id": "83231f26",
   "metadata": {},
   "outputs": [],
   "source": []
  },
  {
   "cell_type": "code",
   "execution_count": null,
   "id": "a55bcd14",
   "metadata": {},
   "outputs": [],
   "source": []
  },
  {
   "cell_type": "code",
   "execution_count": null,
   "id": "3ee56315",
   "metadata": {},
   "outputs": [],
   "source": []
  },
  {
   "cell_type": "code",
   "execution_count": null,
   "id": "be566a8c",
   "metadata": {},
   "outputs": [],
   "source": []
  }
 ],
 "metadata": {
  "kernelspec": {
   "display_name": "Python 3 (ipykernel)",
   "language": "python",
   "name": "python3"
  },
  "language_info": {
   "codemirror_mode": {
    "name": "ipython",
    "version": 3
   },
   "file_extension": ".py",
   "mimetype": "text/x-python",
   "name": "python",
   "nbconvert_exporter": "python",
   "pygments_lexer": "ipython3",
   "version": "3.9.12"
  }
 },
 "nbformat": 4,
 "nbformat_minor": 5
}
