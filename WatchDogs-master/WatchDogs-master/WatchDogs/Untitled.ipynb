{
 "cells": [
  {
   "cell_type": "code",
   "execution_count": 2,
   "id": "87684d77",
   "metadata": {},
   "outputs": [
    {
     "ename": "SyntaxError",
     "evalue": "invalid syntax (3185806046.py, line 7)",
     "output_type": "error",
     "traceback": [
      "\u001b[1;36m  Input \u001b[1;32mIn [2]\u001b[1;36m\u001b[0m\n\u001b[1;33m    export DOCKER_BUILDKIT=1\u001b[0m\n\u001b[1;37m           ^\u001b[0m\n\u001b[1;31mSyntaxError\u001b[0m\u001b[1;31m:\u001b[0m invalid syntax\n"
     ]
    }
   ],
   "source": [
    "# # Minimal core\n",
    "# git clone https://github.com/graphistry/graph-app-kit.git\n",
    "# cd graph-app-kit/src/docker\n",
    "\n",
    "# Enable docker buildkit\n",
    "# ... or run docker-compose via provided alias script `./dc`\n",
    "export DOCKER_BUILDKIT=1\n",
    "export COMPOSE_DOCKER_CLI_BUILD=1\n",
    "\n",
    "# Build\n",
    "docker-compose build\n",
    "\n",
    "# Optional: Edit src/docker/.env (API accounts), docker-compose.yml: Auth, ports, ...\n",
    "\n",
    "# Launch\n",
    "docker-compose up -d\n",
    "docker-compose logs -f -t --tail=100"
   ]
  },
  {
   "cell_type": "code",
   "execution_count": null,
   "id": "597f80d6",
   "metadata": {},
   "outputs": [],
   "source": [
    "# Add dashboards @ src/python/views/<your_custom_view>/__init__.py\n",
    "\n",
    "docker-compose up -d --force-recreate"
   ]
  },
  {
   "cell_type": "code",
   "execution_count": null,
   "id": "eca7fbc5",
   "metadata": {},
   "outputs": [],
   "source": [
    "git clone https://github.com/graphistry/graph-app-kit.git\n",
    "cd graph-app-kit/src/docker\n",
    "./dc.cpu build\n",
    "...\n",
    "./dc.cpu up"
   ]
  },
  {
   "cell_type": "code",
   "execution_count": null,
   "id": "a7efca57",
   "metadata": {},
   "outputs": [],
   "source": [
    "# launch logs\n",
    "tail -f /var/log/cloud-init-output.log -n 1000\n",
    "\n",
    "# app logs\n",
    "sudo docker ps\n",
    "sudo docker logs -f -t --tail=1 MY_CONTAINER\n",
    "\n",
    "# restart a graphistry container\n",
    "cd graphistry && sudo docker-compose restart MY_CONTAINER\n",
    "\n",
    "# restart caddy (Caddy 1 override)\n",
    "cd graphistry && sudo docker-compose -f docker-compose.gak.graphistry.yml up -d caddy\n",
    "\n",
    "# run streamlit\n",
    "cd graph-app-kit/public/graph-app-kit && docker-compose -p pub run -d --name streamlit-pub streamlit\n",
    "cd graph-app-kit/private/graph-app-kit && docker-compose -p priv run -d --name streamlit-priv streamlit"
   ]
  },
  {
   "cell_type": "code",
   "execution_count": 4,
   "id": "fa50bb5a",
   "metadata": {},
   "outputs": [
    {
     "ename": "SyntaxError",
     "evalue": "invalid syntax (1434748589.py, line 1)",
     "output_type": "error",
     "traceback": [
      "\u001b[1;36m  Input \u001b[1;32mIn [4]\u001b[1;36m\u001b[0m\n\u001b[1;33m    curl -s -X POST \\\u001b[0m\n\u001b[1;37m               ^\u001b[0m\n\u001b[1;31mSyntaxError\u001b[0m\u001b[1;31m:\u001b[0m invalid syntax\n"
     ]
    }
   ],
   "source": [
    "curl -s -X POST \\\n",
    "  -H \"Content-Type: application/json\" \\\n",
    "  -d '{\"username\":\"my_user\",\"password\":\"my_pwd\"}' \\\n",
    "  http://localhost/api-token-auth/\n"
   ]
  },
  {
   "cell_type": "code",
   "execution_count": null,
   "id": "abff48e8",
   "metadata": {},
   "outputs": [],
   "source": []
  },
  {
   "cell_type": "code",
   "execution_count": null,
   "id": "28709498",
   "metadata": {},
   "outputs": [],
   "source": []
  },
  {
   "cell_type": "code",
   "execution_count": null,
   "id": "5c807f00",
   "metadata": {},
   "outputs": [],
   "source": []
  },
  {
   "cell_type": "code",
   "execution_count": null,
   "id": "bd326bc3",
   "metadata": {},
   "outputs": [],
   "source": []
  },
  {
   "cell_type": "code",
   "execution_count": null,
   "id": "98f51182",
   "metadata": {},
   "outputs": [],
   "source": []
  },
  {
   "cell_type": "code",
   "execution_count": null,
   "id": "2c744ae2",
   "metadata": {},
   "outputs": [],
   "source": []
  },
  {
   "cell_type": "code",
   "execution_count": null,
   "id": "622c892a",
   "metadata": {},
   "outputs": [],
   "source": []
  },
  {
   "cell_type": "code",
   "execution_count": null,
   "id": "d5e2bf91",
   "metadata": {},
   "outputs": [],
   "source": []
  }
 ],
 "metadata": {
  "kernelspec": {
   "display_name": "Python 3 (ipykernel)",
   "language": "python",
   "name": "python3"
  },
  "language_info": {
   "codemirror_mode": {
    "name": "ipython",
    "version": 3
   },
   "file_extension": ".py",
   "mimetype": "text/x-python",
   "name": "python",
   "nbconvert_exporter": "python",
   "pygments_lexer": "ipython3",
   "version": "3.9.12"
  }
 },
 "nbformat": 4,
 "nbformat_minor": 5
}
