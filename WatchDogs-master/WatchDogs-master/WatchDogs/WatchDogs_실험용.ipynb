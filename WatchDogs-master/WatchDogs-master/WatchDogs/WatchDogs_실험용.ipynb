{
 "cells": [
  {
   "cell_type": "code",
   "execution_count": 4,
   "id": "6d2e6244",
   "metadata": {},
   "outputs": [
    {
     "name": "stdout",
     "output_type": "stream",
     "text": [
      "Collecting xgboost\n",
      "  Downloading xgboost-1.7.1-py3-none-win_amd64.whl (89.1 MB)\n",
      "     ---------------------------------------- 89.1/89.1 MB 9.5 MB/s eta 0:00:00\n",
      "Requirement already satisfied: numpy in c:\\users\\user-pc\\anaconda3\\lib\\site-packages (from xgboost) (1.21.5)\n",
      "Requirement already satisfied: scipy in c:\\users\\user-pc\\anaconda3\\lib\\site-packages (from xgboost) (1.9.1)\n",
      "Installing collected packages: xgboost\n",
      "Successfully installed xgboost-1.7.1\n",
      "Collecting flask_cors\n",
      "  Downloading Flask_Cors-3.0.10-py2.py3-none-any.whl (14 kB)\n",
      "Requirement already satisfied: Six in c:\\users\\user-pc\\anaconda3\\lib\\site-packages (from flask_cors) (1.16.0)\n",
      "Requirement already satisfied: Flask>=0.9 in c:\\users\\user-pc\\anaconda3\\lib\\site-packages (from flask_cors) (1.1.2)\n",
      "Requirement already satisfied: Jinja2>=2.10.1 in c:\\users\\user-pc\\anaconda3\\lib\\site-packages (from Flask>=0.9->flask_cors) (2.11.3)\n",
      "Requirement already satisfied: click>=5.1 in c:\\users\\user-pc\\anaconda3\\lib\\site-packages (from Flask>=0.9->flask_cors) (8.0.4)\n",
      "Requirement already satisfied: Werkzeug>=0.15 in c:\\users\\user-pc\\anaconda3\\lib\\site-packages (from Flask>=0.9->flask_cors) (2.0.3)\n",
      "Requirement already satisfied: itsdangerous>=0.24 in c:\\users\\user-pc\\anaconda3\\lib\\site-packages (from Flask>=0.9->flask_cors) (2.0.1)\n",
      "Requirement already satisfied: colorama in c:\\users\\user-pc\\anaconda3\\lib\\site-packages (from click>=5.1->Flask>=0.9->flask_cors) (0.4.5)\n",
      "Requirement already satisfied: MarkupSafe>=0.23 in c:\\users\\user-pc\\anaconda3\\lib\\site-packages (from Jinja2>=2.10.1->Flask>=0.9->flask_cors) (2.0.1)\n",
      "Installing collected packages: flask_cors\n",
      "Successfully installed flask_cors-3.0.10\n"
     ]
    }
   ],
   "source": [
    "!pip install xgboost\n",
    "!pip install flask_cors"
   ]
  },
  {
   "cell_type": "code",
   "execution_count": 6,
   "id": "00618abd",
   "metadata": {},
   "outputs": [],
   "source": [
    "import pandas as pd\n",
    "import numpy as np\n",
    "import requests\n",
    "from flask import Flask, request, json, jsonify\n",
    "from flask_cors import CORS\n",
    "import pickle\n",
    "from concurrent.futures import ThreadPoolExecutor\n",
    "#import graphistry\n",
    "from multiprocessing import Process\n",
    "import asyncio"
   ]
  },
  {
   "cell_type": "code",
   "execution_count": 7,
   "id": "7b29aa7f",
   "metadata": {},
   "outputs": [],
   "source": [
    "model = pickle.load(open('XGB_FRAUD1.pickle', 'rb'))"
   ]
  },
  {
   "cell_type": "markdown",
   "id": "7baaac9d",
   "metadata": {},
   "source": [
    "### 웹 연동"
   ]
  },
  {
   "cell_type": "code",
   "execution_count": 8,
   "id": "2a0140f0",
   "metadata": {},
   "outputs": [
    {
     "data": {
      "text/plain": [
       "<flask_cors.extension.CORS at 0x1b43c3f1f70>"
      ]
     },
     "execution_count": 8,
     "metadata": {},
     "output_type": "execute_result"
    }
   ],
   "source": [
    "app = Flask(__name__)\n",
    "CORS(app)"
   ]
  },
  {
   "cell_type": "code",
   "execution_count": 22,
   "id": "7418275c",
   "metadata": {},
   "outputs": [
    {
     "name": "stdout",
     "output_type": "stream",
     "text": [
      "<Response [200]>\n",
      "<Response [200]>\n"
     ]
    }
   ],
   "source": [
    "import requests\n",
    "import time\n",
    "user_adr='1CRCqjGKgiNziUi9k5aqtbcLp3575BRQKB'\n",
    "def get_url(url):\n",
    "    return requests.get(url)\n",
    "\n",
    "list_of_urls =['https://blockchain.info/rawaddr/'+user_adr+'?limit=10','https://www.bitcoinabuse.com/api/reports/check?address='+user_adr+'&api_token=GWGXyrT3Yil1PF8hZ49EEP6X8LiOkSr4KzA9bIDc']\n",
    "\n",
    "with ThreadPoolExecutor(max_workers=2) as pool:\n",
    "    response_list = list(pool.map(get_url,list_of_urls))\n",
    "    \n",
    "for response in response_list:\n",
    "    \n",
    "    print(response)\n",
    "    \n",
    "for i in range(2):\n",
    "    report = get_url(list_of_urls[i])\n",
    "    report_json= report.json\n",
    "    \n"
   ]
  },
  {
   "cell_type": "code",
   "execution_count": 14,
   "id": "87e6b6dc",
   "metadata": {},
   "outputs": [
    {
     "ename": "TypeError",
     "evalue": "'Response' object is not subscriptable",
     "output_type": "error",
     "traceback": [
      "\u001b[1;31m---------------------------------------------------------------------------\u001b[0m",
      "\u001b[1;31mTypeError\u001b[0m                                 Traceback (most recent call last)",
      "\u001b[1;32m~\\AppData\\Local\\Temp\\ipykernel_18532\\3206954808.py\u001b[0m in \u001b[0;36m<module>\u001b[1;34m\u001b[0m\n\u001b[1;32m----> 1\u001b[1;33m \u001b[0mresponse\u001b[0m\u001b[1;33m[\u001b[0m\u001b[1;36m1\u001b[0m\u001b[1;33m]\u001b[0m\u001b[1;33m\u001b[0m\u001b[1;33m\u001b[0m\u001b[0m\n\u001b[0m",
      "\u001b[1;31mTypeError\u001b[0m: 'Response' object is not subscriptable"
     ]
    }
   ],
   "source": [
    "response[1]"
   ]
  },
  {
   "cell_type": "code",
   "execution_count": 17,
   "id": "610ea779",
   "metadata": {},
   "outputs": [
    {
     "ename": "TypeError",
     "evalue": "'Response' object is not subscriptable",
     "output_type": "error",
     "traceback": [
      "\u001b[1;31m---------------------------------------------------------------------------\u001b[0m",
      "\u001b[1;31mTypeError\u001b[0m                                 Traceback (most recent call last)",
      "Input \u001b[1;32mIn [17]\u001b[0m, in \u001b[0;36m<cell line: 1>\u001b[1;34m()\u001b[0m\n\u001b[1;32m----> 1\u001b[0m \u001b[43mresponse\u001b[49m\u001b[43m[\u001b[49m\u001b[38;5;241;43m1\u001b[39;49m\u001b[43m]\u001b[49m\n",
      "\u001b[1;31mTypeError\u001b[0m: 'Response' object is not subscriptable"
     ]
    }
   ],
   "source": [
    "response[1]"
   ]
  },
  {
   "cell_type": "markdown",
   "id": "8b8f1a6a",
   "metadata": {},
   "source": [
    "report_url = 'https://www.bitcoinabuse.com/api/reports/check?address=1CRCqjGKgiNziUi9k5aqtbcLp3575BRQKB&api_token=GWGXyrT3Yil1PF8hZ49EEP6X8LiOkSr4KzA9bIDc'\n",
    "\n",
    "report_adrlist = requests.request(\"GET\", report_url)"
   ]
  },
  {
   "cell_type": "markdown",
   "id": "842d5cfa",
   "metadata": {},
   "source": [
    "report_adrlist.json()"
   ]
  },
  {
   "cell_type": "code",
   "execution_count": null,
   "id": "f09a856f",
   "metadata": {},
   "outputs": [],
   "source": [
    "@app.route(\"/user_csv\", methods=['POST'])\n",
    "def user_csv():\n",
    "    # 1. 웹으로부터 csv파일 받기\n",
    "    csv_form = request.form.get('csv_form')\n",
    "    user_csv = request.files['user_csv']\n",
    "    print(user_csv)\n",
    "    data = pd.read_csv(user_csv)\n",
    "   \n",
    "    # 2. 모델에 csv파일 넣어서 분석 -> 도넛그래프\n",
    "    preds_xgb = model.predict(data)\n",
    "    result_csvlist = preds_xgb.tolist()\n",
    "    data['FLAG'] = preds_xgb\n",
    "    \n",
    "    # 3. api에 csv파일 넣어서 막대그래프\n",
    "    rows=data.shape[0]\n",
    "\n",
    "    sum1 = 0\n",
    "    sum2 = 0\n",
    "    sum3 = 0\n",
    "    sum4 = 0\n",
    "    sum5 = 0\n",
    "    absum1 = 0\n",
    "    absum2 = 0\n",
    "    absum3 = 0\n",
    "    absum4= 0\n",
    "    absum5 = 0\n",
    "    cnt = 0\n",
    "    abcnt = 0\n",
    "\n",
    "    for i in range(rows):\n",
    "        if(data['FLAG'][i]==0):\n",
    "            cnt= cnt+1\n",
    "            sum1=sum1+data['total tnx'][i]\n",
    "            sum2=sum2+data['Time Diff between first and last (Mins)'][i]\n",
    "            sum3=sum3+data['total ether balance'][i]\n",
    "            sum4=sum4+data['avg total val'][i]                                             \n",
    "            sum5=sum5+data['max value received '][i]\n",
    "        else:\n",
    "            abcnt= abcnt+1\n",
    "            absum1=absum1+data['total tnx'][i]\n",
    "            absum2=absum2+data['Time Diff between first and last (Mins)'][i]\n",
    "            absum3=absum3+data['total ether balance'][i]\n",
    "            absum4=absum4+data['avg total val'][i]\n",
    "            absum5=absum5+data['max value received '][i]\n",
    "    col1_0 = sum1/cnt\n",
    "    col1_1 = absum1/abcnt\n",
    "    col2_0 = sum2/cnt/60\n",
    "    col2_1 = absum2/abcnt/60\n",
    "    col3_0 = sum3/cnt\n",
    "    col3_1 = absum3/abcnt\n",
    "    col4_0 = sum4/cnt\n",
    "    col4_1 = absum4/abcnt\n",
    "    col5_0 = sum5/cnt\n",
    "    col5_1 = absum5/abcnt\n",
    "\n",
    "    nomal_list=[col1_0,col2_0,col3_0,col4_0,col5_0]\n",
    "    abnomal_list=[col1_1,col2_1,col3_1,col4_1,col5_1]\n",
    "    \n",
    "    # 4. api에 csv파일 넣어서 관계그래프\n",
    "    graphistry.register(api=3, protocol=\"https\", server=\"hub.graphistry.com\", username=\"ddosby\", password=\"tnsmd690@\") \n",
    "    g = graphistry.edges(data).bind(source='max value received ', destination='FLAG')\n",
    "    g_page = g.plot().data\n",
    "    \n",
    "    # 5. json타입으로 웹으로 전송\n",
    "    return jsonify(result_csvlist, nomal_list, abnomal_list, g_page)\n",
    "\n",
    "@app.route(\"/user_adr\", methods=['GET'])\n",
    "def user_adr():\n",
    "    \n",
    "    # 1. 웹으로부터 지갑주소 받기\n",
    "    user_adr = request.args.get('user_adr', 'user_adr')\n",
    " \n",
    "    # 2. api에 지갑주소 넣어서 조회\n",
    "    search_url = 'https://blockchain.info/rawaddr/'+user_adr+'?limit=10'\n",
    "    report_url = 'https://www.bitcoinabuse.com/api/reports/check?address='+user_adr+'&api_token=GWGXyrT3Yil1PF8hZ49EEP6X8LiOkSr4KzA9bIDc'\n",
    "    # 3. 결과데이터 리스트에 담기\n",
    "    search_adrlist = requests.request(\"GET\", search_url)\n",
    "    report_adrlist = requests.request(\"GET\", report_url)\n",
    "    search_adr_json = search_adrlist.json()\n",
    "    report_adr_json = report_adrlist.json()\n",
    "    # 4. json타입으로 웹으로 전송\n",
    "    return search_adr_json, report_adr_json\n",
    "    \n",
    "@app.route(\"/g_fds\", methods=['GET'])\n",
    "def g_fds():\n",
    " \n",
    "    graphistry.register(api=3, protocol=\"https\", server=\"hub.graphistry.com\", username=\"ddosby\", password=\"tnsmd690@\")   \n",
    "    hg = graphistry.hypergraph(pd.read_csv('./project_data3.csv'), ['max value received ', 'Time Diff between first and last (Mins)', 'total ether balance', 'total tnx', 'avg total val', 'FLAG'], direct=True)\n",
    "    g= hg['graph']\n",
    "    data=g.plot().data\n",
    "    \n",
    "    # 4. json타입으로 웹으로 전송\n",
    "    return jsonify(data)\n",
    "    \n",
    "\n",
    "# 전송\n",
    "if __name__ == '__main__':\n",
    "    app.run()"
   ]
  },
  {
   "cell_type": "markdown",
   "id": "02b3551e",
   "metadata": {},
   "source": [
    "@app.route(\"/user_adr\", methods=['GET'])\n",
    "def user_adr():\n",
    "    \n",
    "    # 1. 웹으로부터 지갑주소 받기\n",
    "    user_adr = request.args.get('user_adr', 'user_adr')\n",
    "        \n",
    "        \n",
    "       \n",
    "    # 2. api에 지갑주소 넣어서 조회\n",
    "    async def search(user_adr):\n",
    "            search_url = 'https://blockchain.info/rawaddr/'+user_adr+'?limit=10'\n",
    "            search_adrlist = requests.request(\"GET\", search_url)\n",
    "            search_adr_json = search_adrlist.json()\n",
    "            return search_adr_json\n",
    "    async def report(user_adr):\n",
    "            report_url = 'https://www.bitcoinabuse.com/api/reports/check?address='+user_adr+'&api_token=GWGXyrT3Yil1PF8hZ49EEP6X8LiOkSr4KzA9bIDc'\n",
    "            report_adrlist = requests.request(\"GET\", report_url)\n",
    "            report_adr_json = report_adrlist.json()\n",
    "            return report_adr_json\n",
    "    async def main(user_adr):\n",
    "         task1 = asyncio.create_task(search(user_adr))\n",
    "         task2 = asyncio.create_task(report(user_adr))\n",
    "         result_of_task1 = await task1\n",
    "         result_of_task2 = await task2\n",
    "        \n",
    "         return result_of_task1, result_of_task2\n",
    "    result_1, result_2 = await main(user_adr)\n",
    "    return result_1, result_2"
   ]
  },
  {
   "cell_type": "markdown",
   "id": "9d73001f",
   "metadata": {},
   "source": [
    "@app.route(\"/user_adr\", methods=['GET'])\n",
    "def user_adr():\n",
    "    # 1. 웹으로부터 지갑주소 받기\n",
    "    user_adr = request.args.get('user_adr', 'user_adr')\n",
    "    print(user_adr)\n",
    "    \n",
    "    # 2. api에 지갑주소 넣어서 조회\n",
    "\n",
    "    search_url = 'https://blockchain.info/rawaddr/'+user_adr+'?limit=10'\n",
    "    report_url = 'https://www.bitcoinabuse.com/api/reports/check?address='+user_adr+'&api_token=GWGXyrT3Yil1PF8hZ49EEP6X8LiOkSr4KzA9bIDc'\n",
    "    \n",
    "    # 3. 결과데이터 리스트에 담기\n",
    "    search_adrlist = requests.request(\"GET\", search_url)\n",
    "    report_adrlist = requests.request(\"GET\", report_url)\n",
    "    search_adr_json = search_adrlist.json()\n",
    "    report_adr_json = report_adrlist.json()\n",
    "    \n",
    "    # 4. json타입으로 웹으로 전송\n",
    "    return search_adr_json, report_adr_json\n",
    "    "
   ]
  }
 ],
 "metadata": {
  "kernelspec": {
   "display_name": "Python 3 (ipykernel)",
   "language": "python",
   "name": "python3"
  },
  "language_info": {
   "codemirror_mode": {
    "name": "ipython",
    "version": 3
   },
   "file_extension": ".py",
   "mimetype": "text/x-python",
   "name": "python",
   "nbconvert_exporter": "python",
   "pygments_lexer": "ipython3",
   "version": "3.9.13"
  }
 },
 "nbformat": 4,
 "nbformat_minor": 5
}
