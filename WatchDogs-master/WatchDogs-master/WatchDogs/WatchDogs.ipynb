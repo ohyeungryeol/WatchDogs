{
 "cells": [
  {
   "cell_type": "code",
   "execution_count": 1,
   "id": "6d2e6244",
   "metadata": {},
   "outputs": [
    {
     "name": "stdout",
     "output_type": "stream",
     "text": [
      "Requirement already satisfied: xgboost in c:\\users\\user-pc\\anaconda3\\lib\\site-packages (1.7.1)\n",
      "Requirement already satisfied: scipy in c:\\users\\user-pc\\anaconda3\\lib\\site-packages (from xgboost) (1.9.1)\n",
      "Requirement already satisfied: numpy in c:\\users\\user-pc\\anaconda3\\lib\\site-packages (from xgboost) (1.21.5)\n",
      "Requirement already satisfied: flask_cors in c:\\users\\user-pc\\anaconda3\\lib\\site-packages (3.0.10)\n",
      "Requirement already satisfied: Six in c:\\users\\user-pc\\anaconda3\\lib\\site-packages (from flask_cors) (1.16.0)\n",
      "Requirement already satisfied: Flask>=0.9 in c:\\users\\user-pc\\anaconda3\\lib\\site-packages (from flask_cors) (1.1.2)\n",
      "Requirement already satisfied: itsdangerous>=0.24 in c:\\users\\user-pc\\anaconda3\\lib\\site-packages (from Flask>=0.9->flask_cors) (2.0.1)\n",
      "Requirement already satisfied: click>=5.1 in c:\\users\\user-pc\\anaconda3\\lib\\site-packages (from Flask>=0.9->flask_cors) (8.0.4)\n",
      "Requirement already satisfied: Jinja2>=2.10.1 in c:\\users\\user-pc\\anaconda3\\lib\\site-packages (from Flask>=0.9->flask_cors) (2.11.3)\n",
      "Requirement already satisfied: Werkzeug>=0.15 in c:\\users\\user-pc\\anaconda3\\lib\\site-packages (from Flask>=0.9->flask_cors) (2.0.3)\n",
      "Requirement already satisfied: colorama in c:\\users\\user-pc\\anaconda3\\lib\\site-packages (from click>=5.1->Flask>=0.9->flask_cors) (0.4.5)\n",
      "Requirement already satisfied: MarkupSafe>=0.23 in c:\\users\\user-pc\\anaconda3\\lib\\site-packages (from Jinja2>=2.10.1->Flask>=0.9->flask_cors) (2.0.1)\n"
     ]
    }
   ],
   "source": [
    "!pip install xgboost\n",
    "!pip install flask_cors"
   ]
  },
  {
   "cell_type": "code",
   "execution_count": 2,
   "id": "dea04eed",
   "metadata": {},
   "outputs": [
    {
     "name": "stdout",
     "output_type": "stream",
     "text": [
      "Requirement already satisfied: graphistry in c:\\users\\user-pc\\appdata\\roaming\\python\\python39\\site-packages (0.28.6)\n",
      "Requirement already satisfied: pandas>=0.17.0 in c:\\users\\user-pc\\anaconda3\\lib\\site-packages (from graphistry) (1.4.4)\n",
      "Requirement already satisfied: palettable>=3.0 in c:\\users\\user-pc\\appdata\\roaming\\python\\python39\\site-packages (from graphistry) (3.3.0)\n",
      "Requirement already satisfied: typing-extensions in c:\\users\\user-pc\\anaconda3\\lib\\site-packages (from graphistry) (4.3.0)\n",
      "Requirement already satisfied: packaging>=20.1 in c:\\users\\user-pc\\anaconda3\\lib\\site-packages (from graphistry) (21.3)\n",
      "Requirement already satisfied: pyarrow>=0.15.0 in c:\\users\\user-pc\\appdata\\roaming\\python\\python39\\site-packages (from graphistry) (10.0.1)\n",
      "Requirement already satisfied: requests in c:\\users\\user-pc\\anaconda3\\lib\\site-packages (from graphistry) (2.28.1)\n",
      "Requirement already satisfied: squarify in c:\\users\\user-pc\\appdata\\roaming\\python\\python39\\site-packages (from graphistry) (0.4.3)\n",
      "Requirement already satisfied: numpy in c:\\users\\user-pc\\anaconda3\\lib\\site-packages (from graphistry) (1.21.5)\n",
      "Requirement already satisfied: pyparsing!=3.0.5,>=2.0.2 in c:\\users\\user-pc\\anaconda3\\lib\\site-packages (from packaging>=20.1->graphistry) (3.0.9)\n",
      "Requirement already satisfied: pytz>=2020.1 in c:\\users\\user-pc\\anaconda3\\lib\\site-packages (from pandas>=0.17.0->graphistry) (2022.1)\n",
      "Requirement already satisfied: python-dateutil>=2.8.1 in c:\\users\\user-pc\\anaconda3\\lib\\site-packages (from pandas>=0.17.0->graphistry) (2.8.2)\n",
      "Requirement already satisfied: idna<4,>=2.5 in c:\\users\\user-pc\\anaconda3\\lib\\site-packages (from requests->graphistry) (3.3)\n",
      "Requirement already satisfied: charset-normalizer<3,>=2 in c:\\users\\user-pc\\anaconda3\\lib\\site-packages (from requests->graphistry) (2.0.4)\n",
      "Requirement already satisfied: urllib3<1.27,>=1.21.1 in c:\\users\\user-pc\\anaconda3\\lib\\site-packages (from requests->graphistry) (1.26.11)\n",
      "Requirement already satisfied: certifi>=2017.4.17 in c:\\users\\user-pc\\anaconda3\\lib\\site-packages (from requests->graphistry) (2022.9.14)\n",
      "Requirement already satisfied: six>=1.5 in c:\\users\\user-pc\\anaconda3\\lib\\site-packages (from python-dateutil>=2.8.1->pandas>=0.17.0->graphistry) (1.16.0)\n"
     ]
    }
   ],
   "source": [
    "! pip install --user graphistry"
   ]
  },
  {
   "cell_type": "code",
   "execution_count": 3,
   "id": "00618abd",
   "metadata": {},
   "outputs": [],
   "source": [
    "import pandas as pd\n",
    "import numpy as np\n",
    "import requests\n",
    "from flask import Flask, request, json, jsonify\n",
    "from flask_cors import CORS\n",
    "import pickle\n",
    "from concurrent.futures import ThreadPoolExecutor\n",
    "import graphistry\n",
    "from multiprocessing import Process\n",
    "import asyncio"
   ]
  },
  {
   "cell_type": "code",
   "execution_count": 4,
   "id": "7b29aa7f",
   "metadata": {},
   "outputs": [],
   "source": [
    "model = pickle.load(open('XGB_FRAUD1.pickle', 'rb'))"
   ]
  },
  {
   "cell_type": "markdown",
   "id": "7baaac9d",
   "metadata": {},
   "source": [
    "### 웹 연동"
   ]
  },
  {
   "cell_type": "code",
   "execution_count": 5,
   "id": "2a0140f0",
   "metadata": {},
   "outputs": [
    {
     "data": {
      "text/plain": [
       "<flask_cors.extension.CORS at 0x1054bb447f0>"
      ]
     },
     "execution_count": 5,
     "metadata": {},
     "output_type": "execute_result"
    }
   ],
   "source": [
    "app = Flask(__name__)\n",
    "CORS(app)"
   ]
  },
  {
   "cell_type": "markdown",
   "id": "8c37b148",
   "metadata": {},
   "source": [
    "import requests\n",
    "import time\n",
    "user_adr='1CRCqjGKgiNziUi9k5aqtbcLp3575BRQKB'\n",
    "def get_url(url):\n",
    "    return requests.get(url)\n",
    "\n",
    "list_of_urls =['https://blockchain.info/rawaddr/'+user_adr+'?limit=10','https://www.bitcoinabuse.com/api/reports/check?address='+user_adr+'&api_token=GWGXyrT3Yil1PF8hZ49EEP6X8LiOkSr4KzA9bIDc']\n",
    "\n",
    "with ThreadPoolExecutor(max_workers=2) as pool:\n",
    "    response_list = list(pool.map(get_url,list_of_urls))\n",
    "    \n",
    "for response in response_list:\n",
    "    print(response)\n",
    "    \n",
    "    \n",
    "report1 = get_url(list_of_urls[0])\n",
    "report2 = get_url(list_of_urls[1])\n",
    "\n",
    "search_json = report1.json()\n",
    "report_json = report2.json()"
   ]
  },
  {
   "cell_type": "markdown",
   "id": "8b8f1a6a",
   "metadata": {},
   "source": [
    "report_url = 'https://www.bitcoinabuse.com/api/reports/check?address=1CRCqjGKgiNziUi9k5aqtbcLp3575BRQKB&api_token=GWGXyrT3Yil1PF8hZ49EEP6X8LiOkSr4KzA9bIDc'\n",
    "\n",
    "report_adrlist = requests.request(\"GET\", report_url)"
   ]
  },
  {
   "cell_type": "markdown",
   "id": "842d5cfa",
   "metadata": {},
   "source": [
    "report_adrlist.json()"
   ]
  },
  {
   "cell_type": "code",
   "execution_count": null,
   "id": "f09a856f",
   "metadata": {},
   "outputs": [
    {
     "name": "stdout",
     "output_type": "stream",
     "text": [
      " * Serving Flask app \"__main__\" (lazy loading)\n",
      " * Environment: production\n",
      "\u001b[31m   WARNING: This is a development server. Do not use it in a production deployment.\u001b[0m\n",
      "\u001b[2m   Use a production WSGI server instead.\u001b[0m\n",
      " * Debug mode: off\n"
     ]
    },
    {
     "name": "stderr",
     "output_type": "stream",
     "text": [
      "  * Running on http://127.0.0.1:5000/ (Press CTRL+C to quit)\n",
      "\n",
      " 127.0.0.1 - - [18/Dec/2022 17:35:40] \"GET /user_report?user_adr=1PuHFFK1ZnxScywgDRcuWeyEWfXCqevk8o HTTP/1.1\" 200 -\n",
      "\n",
      " 127.0.0.1 - - [18/Dec/2022 23:56:11] \"GET /user_adr?user_adr=1PuHFFK1ZnxScywgDRcuWeyEWfXCqevk8o HTTP/1.1\" 200 -\n",
      "\n",
      " 127.0.0.1 - - [18/Dec/2022 23:57:15] \"GET /user_report?user_adr=1PuHFFK1ZnxScywgDRcuWeyEWfXCqevk8o HTTP/1.1\" 200 -\n",
      "\n",
      " 127.0.0.1 - - [19/Dec/2022 00:04:39] \"GET /user_report?user_adr=width%3A%20200px%3B1PuHFFK1ZnxScywgDRcuWeyEWfXCqevk8o HTTP/1.1\" 200 -\n",
      "\n",
      " 127.0.0.1 - - [19/Dec/2022 00:04:44] \"GET /user_report?user_adr=1PuHFFK1ZnxScywgDRcuWeyEWfXCqevk8o HTTP/1.1\" 200 -\n",
      "\n",
      " 127.0.0.1 - - [19/Dec/2022 00:05:46] \"GET /user_report?user_adr=1PuHFFK1ZnxScywgDRcuWeyEWfXCqevk8o HTTP/1.1\" 200 -\n",
      "\n",
      " 127.0.0.1 - - [19/Dec/2022 00:10:35] \"GET /user_report?user_adr=1PuHFFK1ZnxScywgDRcuWeyEWfXCqevk8o HTTP/1.1\" 200 -\n",
      "\n"
     ]
    },
    {
     "name": "stdout",
     "output_type": "stream",
     "text": [
      "<FileStorage: 'data_01_test .csv' ('text/csv')>\n"
     ]
    },
    {
     "name": "stderr",
     "output_type": "stream",
     "text": [
      " 127.0.0.1 - - [19/Dec/2022 00:18:47] \"POST /user_csv HTTP/1.1\" 200 -\n",
      "\n"
     ]
    }
   ],
   "source": [
    "@app.route(\"/user_csv\", methods=['POST'])\n",
    "def user_csv():\n",
    "    # 1. 웹으로부터 csv파일 받기\n",
    "    csv_form = request.form.get('csv_form')\n",
    "    user_csv = request.files['user_csv']\n",
    "    print(user_csv)\n",
    "    data = pd.read_csv(user_csv)\n",
    "   \n",
    "    # 2. 모델에 csv파일 넣어서 분석 -> 도넛그래프\n",
    "    preds_xgb = model.predict(data)\n",
    "    result_csvlist = preds_xgb.tolist()\n",
    "    data['FLAG'] = preds_xgb\n",
    "    \n",
    "    # 3. api에 csv파일 넣어서 막대그래프\n",
    "    rows=data.shape[0]\n",
    "\n",
    "    sum1 = 0\n",
    "    sum2 = 0\n",
    "    sum3 = 0\n",
    "    sum4 = 0\n",
    "    sum5 = 0\n",
    "    absum1 = 0\n",
    "    absum2 = 0\n",
    "    absum3 = 0\n",
    "    absum4= 0\n",
    "    absum5 = 0\n",
    "    cnt = 0\n",
    "    abcnt = 0\n",
    "\n",
    "    for i in range(rows):\n",
    "        if(data['FLAG'][i]==0):\n",
    "            cnt= cnt+1\n",
    "            sum1=sum1+data['total tnx'][i]\n",
    "            sum2=sum2+data['Time Diff between first and last (Mins)'][i]\n",
    "            sum3=sum3+data['total ether balance'][i]\n",
    "            sum4=sum4+data['avg total val'][i]                                             \n",
    "            sum5=sum5+data['max value received '][i]\n",
    "        else:\n",
    "            abcnt= abcnt+1\n",
    "            absum1=absum1+data['total tnx'][i]\n",
    "            absum2=absum2+data['Time Diff between first and last (Mins)'][i]\n",
    "            absum3=absum3+data['total ether balance'][i]\n",
    "            absum4=absum4+data['avg total val'][i]\n",
    "            absum5=absum5+data['max value received '][i]\n",
    "    col1_0 = sum1/cnt\n",
    "    col1_1 = absum1/abcnt\n",
    "    col2_0 = sum2/cnt/60\n",
    "    col2_1 = absum2/abcnt/60\n",
    "    col3_0 = sum3/cnt\n",
    "    col3_1 = absum3/abcnt\n",
    "    col4_0 = sum4/cnt\n",
    "    col4_1 = absum4/abcnt\n",
    "    col5_0 = sum5/cnt\n",
    "    col5_1 = absum5/abcnt\n",
    "\n",
    "    nomal_list=[col1_0,col2_0,col3_0,col4_0,col5_0]\n",
    "    abnomal_list=[col1_1,col2_1,col3_1,col4_1,col5_1]\n",
    "    \n",
    "    # 4. api에 csv파일 넣어서 관계그래프\n",
    "    graphistry.register(api=3, protocol=\"https\", server=\"hub.graphistry.com\", username=\"ddosby\", password=\"tnsmd690@\") \n",
    "    g = graphistry.edges(data).bind(source='max value received ', destination='FLAG')\n",
    "    g_page = g.plot().data\n",
    "    \n",
    "    # 5. json타입으로 웹으로 전송\n",
    "    return jsonify(result_csvlist, nomal_list, abnomal_list, g_page)\n",
    "\n",
    "@app.route(\"/user_adr\", methods=['GET'])\n",
    "def user_adr():\n",
    "    # 1. 웹으로부터 지갑주소 받기\n",
    "    user_adr = request.args.get('user_adr', 'user_adr')\n",
    "    \n",
    "    # 2. api에 지갑주소 넣어서 조회\n",
    "    search_url = 'https://blockchain.info/rawaddr/'+user_adr+'?limit=10'\n",
    "    \n",
    "    # 3. 결과데이터 리스트에 담기\n",
    "    search_adrlist = requests.request(\"GET\", search_url)\n",
    "    search_adr_json = search_adrlist.json()\n",
    "    \n",
    "    # 4. json타입으로 웹으로 전송\n",
    "    return search_adr_json\n",
    "\n",
    "@app.route(\"/user_report\", methods=['GET'])\n",
    "def user_report():\n",
    "    # 1. 웹으로부터 지갑주소 받기\n",
    "    user_adr = request.args.get('user_adr', 'user_adr')\n",
    "    \n",
    "    # 2. api에 지갑주소 넣어서 조회\n",
    "    report_url = 'https://www.bitcoinabuse.com/api/reports/check?address='+user_adr+'&api_token=GWGXyrT3Yil1PF8hZ49EEP6X8LiOkSr4KzA9bIDc'\n",
    "    \n",
    "    \n",
    "    # 3. 결과데이터 리스트에 담기\n",
    "    report_adrlist = requests.request(\"GET\", report_url)\n",
    "    report_adr_json = report_adrlist.json()\n",
    "    \n",
    "    # 4. json타입으로 웹으로 전송\n",
    "    return report_adr_json\n",
    "\n",
    "@app.route(\"/g_fds\", methods=['GET'])\n",
    "def g_fds():\n",
    " \n",
    "    graphistry.register(api=3, protocol=\"https\", server=\"hub.graphistry.com\", username=\"ddosby\", password=\"tnsmd690@\")   \n",
    "    hg = graphistry.hypergraph(pd.read_csv('./bnode.csv'), ['txId1', 'txId2'], direct=True)\n",
    "    g= hg['graph']\n",
    "    data=g.plot().data\n",
    "    \n",
    "    # 4. json타입으로 웹으로 전송\n",
    "    return jsonify(data)\n",
    "    \n",
    "\n",
    "# 전송\n",
    "if __name__ == '__main__':\n",
    "    app.run()"
   ]
  },
  {
   "cell_type": "markdown",
   "id": "02b3551e",
   "metadata": {},
   "source": [
    "@app.route(\"/user_adr\", methods=['GET'])\n",
    "def user_adr():\n",
    "    \n",
    "    # 1. 웹으로부터 지갑주소 받기\n",
    "    user_adr = request.args.get('user_adr', 'user_adr')\n",
    "        \n",
    "        \n",
    "       \n",
    "    # 2. api에 지갑주소 넣어서 조회\n",
    "    async def search(user_adr):\n",
    "            search_url = 'https://blockchain.info/rawaddr/'+user_adr+'?limit=10'\n",
    "            search_adrlist = requests.request(\"GET\", search_url)\n",
    "            search_adr_json = search_adrlist.json()\n",
    "            return search_adr_json\n",
    "    async def report(user_adr):\n",
    "            report_url = 'https://www.bitcoinabuse.com/api/reports/check?address='+user_adr+'&api_token=GWGXyrT3Yil1PF8hZ49EEP6X8LiOkSr4KzA9bIDc'\n",
    "            report_adrlist = requests.request(\"GET\", report_url)\n",
    "            report_adr_json = report_adrlist.json()\n",
    "            return report_adr_json\n",
    "    async def main(user_adr):\n",
    "         task1 = asyncio.create_task(search(user_adr))\n",
    "         task2 = asyncio.create_task(report(user_adr))\n",
    "         result_of_task1 = await task1\n",
    "         result_of_task2 = await task2\n",
    "        \n",
    "         return result_of_task1, result_of_task2\n",
    "    result_1, result_2 = await main(user_adr)\n",
    "    return result_1, result_2"
   ]
  },
  {
   "cell_type": "markdown",
   "id": "9d73001f",
   "metadata": {},
   "source": [
    "@app.route(\"/user_adr\", methods=['GET'])\n",
    "def user_adr():\n",
    "    # 1. 웹으로부터 지갑주소 받기\n",
    "    user_adr = request.args.get('user_adr', 'user_adr')\n",
    "    print(user_adr)\n",
    "    \n",
    "    # 2. api에 지갑주소 넣어서 조회\n",
    "\n",
    "    search_url = 'https://blockchain.info/rawaddr/'+user_adr+'?limit=10'\n",
    "    report_url = 'https://www.bitcoinabuse.com/api/reports/check?address='+user_adr+'&api_token=GWGXyrT3Yil1PF8hZ49EEP6X8LiOkSr4KzA9bIDc'\n",
    "    \n",
    "    # 3. 결과데이터 리스트에 담기\n",
    "    search_adrlist = requests.request(\"GET\", search_url)\n",
    "    report_adrlist = requests.request(\"GET\", report_url)\n",
    "    search_adr_json = search_adrlist.json()\n",
    "    report_adr_json = report_adrlist.json()\n",
    "    \n",
    "    # 4. json타입으로 웹으로 전송\n",
    "    return search_adr_json, report_adr_json\n",
    "    "
   ]
  },
  {
   "cell_type": "code",
   "execution_count": null,
   "id": "1535a470",
   "metadata": {},
   "outputs": [],
   "source": [
    "user_adr = '1CRCqjGKgiNziUi9k5aqtbcLp3575BRQKB'"
   ]
  },
  {
   "cell_type": "code",
   "execution_count": null,
   "id": "771bc41a",
   "metadata": {},
   "outputs": [],
   "source": [
    "def user_adr():\n",
    "    # 1. 웹으로부터 지갑주소 받기\n",
    "    user_adr = '1CRCqjGKgiNziUi9k5aqtbcLp3575BRQKB'    \n",
    "    print(user_adr)\n",
    "    \n",
    "    # 2. api에 지갑주소 넣어서 조회\n",
    "\n",
    "    search_url = 'https://blockchain.info/rawaddr/'+user_adr+'?limit=10'\n",
    "    report_url = 'https://www.bitcoinabuse.com/api/reports/check?address='+user_adr+'&api_token=GWGXyrT3Yil1PF8hZ49EEP6X8LiOkSr4KzA9bIDc'\n",
    "    \n",
    "    # 3. 결과데이터 리스트에 담기\n",
    "    search_adrlist = requests.request(\"GET\", search_url)\n",
    "    report_adrlist = requests.request(\"GET\", report_url)\n",
    "    search_adr_json = search_adrlist.json()\n",
    "    report_adr_json = report_adrlist.json()\n",
    "    \n",
    "    # 4. json타입으로 웹으로 전송\n",
    "    return (search_adr_json, report_adr_json)\n",
    "    "
   ]
  },
  {
   "cell_type": "code",
   "execution_count": null,
   "id": "48f04849",
   "metadata": {
    "scrolled": false
   },
   "outputs": [],
   "source": [
    "user_adr()"
   ]
  },
  {
   "cell_type": "code",
   "execution_count": null,
   "id": "2ccbf9a0",
   "metadata": {},
   "outputs": [],
   "source": []
  }
 ],
 "metadata": {
  "kernelspec": {
   "display_name": "Python 3 (ipykernel)",
   "language": "python",
   "name": "python3"
  },
  "language_info": {
   "codemirror_mode": {
    "name": "ipython",
    "version": 3
   },
   "file_extension": ".py",
   "mimetype": "text/x-python",
   "name": "python",
   "nbconvert_exporter": "python",
   "pygments_lexer": "ipython3",
   "version": "3.9.13"
  }
 },
 "nbformat": 4,
 "nbformat_minor": 5
}
