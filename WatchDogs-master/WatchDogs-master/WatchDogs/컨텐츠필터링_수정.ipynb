{
 "cells": [
  {
   "cell_type": "code",
   "execution_count": null,
   "id": "8de58342",
   "metadata": {},
   "outputs": [],
   "source": [
    "import pandas as pd\n",
    "import numpy as np\n",
    "from tmdbv3api import Movie, TMDb\n",
    "from flask import Flask\n",
    "from flask import request, redirect\n",
    "\n",
    "app = Flask(__name__)\n",
    "\n",
    "@app.route(\"/search\")\n",
    "def search_reco():\n",
    "    movie = Movie()\n",
    "    tmdb = TMDb()\n",
    "    tmdb.api_key = 'c78f6d25f134b905f3df83accbce966c'\n",
    "    tmdb.language = 'ko-KR'\n",
    "\n",
    "    df1 = pd.read_csv('tmdb_5000_credits.csv')\n",
    "    df2 = pd.read_csv('tmdb_5000_movies.csv')\n",
    "    \n",
    "    df1.columns = ['id', 'title', 'cast', 'crew']\n",
    "    \n",
    "    df1 = pd.read_csv('tmdb_5000_credits.csv')\n",
    "    df2 = pd.read_csv('tmdb_5000_movies.csv')\n",
    "    \n",
    "#     df2 = df2.merge(df1[['id', 'cast', 'crew']], on='id')\n",
    "    \n",
    "#     C = df2['vote_average'].mean()\n",
    "    \n",
    "#     m = df2['vote_count'].quantile(0.9)\n",
    "    \n",
    "#     q_movies = df2.copy().loc[df2['vote_count'] >= m]\n",
    "    \n",
    "#     def weighted_rating(x, m=m, C=C):\n",
    "#         v = x['vote_count']\n",
    "#         R = x['vote_average']\n",
    "#         q_movies['score'] = q_movies.apply(weighted_rating, axis=1)\n",
    "#         return (v / (v + m) * R) + (m / (m + v) * C)\n",
    "        \n",
    "#     q_movies['score'] = q_movies.apply(weighted_rating, axis=1)\n",
    "    \n",
    "#     q_movies = q_movies.sort_values('score', ascending=False)\n",
    "    \n",
    "#     ---------------------------------------------------------------\n",
    "    \n",
    "#     from sklearn.feature_extraction.text import TfidfVectorizer\n",
    "#     tfidf = TfidfVectorizer(stop_words='english')\n",
    "    \n",
    "#     from sklearn.feature_extraction.text import ENGLISH_STOP_WORDS\n",
    "    \n",
    "#     df2['overview'] = df2['overview'].fillna('')\n",
    "    \n",
    "#     tfidf_matrix = tfidf.fit_transform(df2['overview'])\n",
    "    \n",
    "#     from sklearn.metrics.pairwise import linear_kernel\n",
    "\n",
    "#     cosine_sim = linear_kernel(tfidf_matrix, tfidf_matrix)\n",
    "    \n",
    "#     indices = pd.Series(df2.index, index=df2['title']).drop_duplicates()\n",
    "    #------------------------------------------------------------------------------------\n",
    "    \n",
    "    # 영화의 제목을 입력받으면 코사인 유사도를 통해서 가장 유사도가 높은 상위 10개의 영화 목록 반환\n",
    "    def get_recommendations(title, cosine_sim=cosine_sim):\n",
    "        # 영화 제목을 통해서 전체 데이터 기준 그 영화의 index 값을 얻기\n",
    "        idx = indices[title]\n",
    "    \n",
    "        # 코사인 유사도 매트릭스 (cosine_sim) 에서 idx 에 해당하는 데이터를 (idx, 유사도) 형태로 얻기\n",
    "        sim_scores = list(enumerate(cosine_sim[idx]))\n",
    "\n",
    "        # 코사인 유사도 기준으로 내림차순 정렬\n",
    "        sim_scores = sorted(sim_scores, key=lambda x: x[1], reverse=True)\n",
    "\n",
    "        # 자기 자신을 제외한 10개의 추천 영화를 슬라이싱\n",
    "        sim_scores = sim_scores[0:10]\n",
    "\n",
    "        # 추천 영화 목록 10개의 인덱스 정보 추출\n",
    "        movie_indices = [i[0] for i in sim_scores]\n",
    "\n",
    "        # 인덱스 정보를 통해 영화 제목 추출\n",
    "        return df2['title'].iloc[movie_indices]\n",
    "    \n",
    "#     test_idx = indices['The Dark Knight Rises'] # 영화 제목을 통해서 전체 데이터 기준 그 영화의 index 값을 얻기\n",
    "    \n",
    "#     test_sim_scores = list(enumerate(cosine_sim[3])) # 코사인 유사도 매트릭스 (cosine_sim) 에서 idx 에 해당하는 데이터를 (idx, 유사도) 형태로 얻기\n",
    "    \n",
    "#     test_sim_scores = sorted(test_sim_scores, key=lambda x: x[1], reverse=True) # 코사인 유사도 기준으로 내림차순 정렬\n",
    "    \n",
    "    def get_second(x):\n",
    "        return x[1]\n",
    "\n",
    "    lst = ['인덱스', '유사도']\n",
    "    \n",
    "    # 추천 영화 목록 10개의 인덱스 정보 추출\n",
    "    test_movie_indices = [i[0] for i in test_sim_scores[1:11]]\n",
    "    \n",
    "    s1 = [{\"id\": 28, \"name\": \"Action\"}]\n",
    "    s2 = '[{\"id\": 28, \"name\": \"Action\"}]\n",
    "    \n",
    "    from ast import literal_eval\n",
    "    s2 = literal_eval(s2)\n",
    "    s2, type(s2)\n",
    "    \n",
    "    features = ['cast', 'crew', 'keywords', 'genres']\n",
    "    for feature in features:\n",
    "        df2[feature] = df2[feature].apply(literal_eval)\n",
    "        \n",
    "    # 감독 정보를 추출\n",
    "    def get_director(x):\n",
    "        for i in x:\n",
    "            if i['job'] == 'Director':\n",
    "                return i['name']\n",
    "            return np.nan\n",
    "        \n",
    "    df2['director'] = df2['crew'].apply(get_director)\n",
    "    \n",
    "    # 처음 3개의 데이터 중에서 name 에 해당하는 value 만 추출\n",
    "    def get_list(x):\n",
    "        if isinstance(x, list):\n",
    "            names = [i['name'] for i in x]\n",
    "            if len(names) > 3:\n",
    "                names = names[:3]\n",
    "            return names\n",
    "        return []\n",
    "    \n",
    "    features = ['cast', 'keywords', 'genres']\n",
    "    for feature in features:\n",
    "        df2[feature] = df2[feature].apply(get_list)\n",
    "        \n",
    "    def clean_data(x):\n",
    "        if isinstance(x, list):\n",
    "            return [str.lower(i.replace(' ', '')) for i in x]\n",
    "        else:\n",
    "            if isinstance(x, str):\n",
    "                return str.lower(x.replace(' ', ''))\n",
    "            else:\n",
    "                return ''\n",
    "            \n",
    "    features = ['cast', 'keywords', 'director', 'genres']\n",
    "    for feature in features:\n",
    "        df2[feature] = df2[feature].apply(clean_data)\n",
    "        \n",
    "    def create_soup(x):\n",
    "        return ' '.join(x['keywords']) + ' ' + ' '.join(x['cast']) + ' ' + x['director'] + ' ' + ' '.join(x['genres'])\n",
    "    df2['soup'] = df2.apply(create_soup, axis=1)\n",
    "    \n",
    "    from sklearn.feature_extraction.text import CountVectorizer\n",
    "\n",
    "    count = CountVectorizer(stop_words='english')\n",
    "    count_matrix = count.fit_transform(df2['soup'])\n",
    "    \n",
    "    from sklearn.metrics.pairwise import cosine_similarity\n",
    "    cosine_sim2 = cosine_similarity(count_matrix, count_matrix)\n",
    "    \n",
    "    df2 = df2.reset_index()\n",
    "    indices = pd.Series(df2.index, index=df2['title'])\n",
    "    \n",
    "#     import pickle\n",
    "    \n",
    "#     movies = df2[['id', 'title']].copy()\n",
    "    \n",
    "#     pickle.dump(movies, open('movies.pickle', 'wb'))\n",
    "    \n",
    "#     pickle.dump(cosine_sim2, open('cosine_sim.pickle', 'wb'))\n",
    "    \n",
    "    search_title = request.values.get(\"search_title\")\n",
    "    result = get_recommendations(serch_title, cosine_sim2)\n",
    "    \n",
    "    result_image = []\n",
    "    result_title = []\n",
    "    for i in movie_indices:\n",
    "        id = movies['id'].iloc[i]\n",
    "        details = movie.details(id)\n",
    "        \n",
    "        image_path = details['poster_path']\n",
    "        if image_path:\n",
    "            image_path = 'https://image.tmdb.org/t/p/w500' + image_path\n",
    "        else:\n",
    "            image_path = 'no_image.jpg'\n",
    "            result_image.append(image_path)\n",
    "            result_title.append(details['title'])\n",
    "        \n",
    "    return redirect(\"http://localhost:8081/SuitMV_v1/SearchCon.do.java?result_image=\"+result_image+\"&result_title=\"+result_title)\n",
    "\n",
    "if __name__ == '__main__':\n",
    "    app.run(host='localhost', port='9000')"
   ]
  },
  {
   "cell_type": "code",
   "execution_count": 1,
   "id": "e10e06c6",
   "metadata": {},
   "outputs": [
    {
     "name": "stdout",
     "output_type": "stream",
     "text": [
      "Collecting tmdbv3api\n",
      "  Using cached tmdbv3api-1.7.7-py2.py3-none-any.whl (18 kB)\n",
      "Requirement already satisfied: requests in c:\\users\\user\\anaconda3\\lib\\site-packages (from tmdbv3api) (2.27.1)\n",
      "Requirement already satisfied: urllib3<1.27,>=1.21.1 in c:\\users\\user\\anaconda3\\lib\\site-packages (from requests->tmdbv3api) (1.26.9)\n",
      "Requirement already satisfied: certifi>=2017.4.17 in c:\\users\\user\\anaconda3\\lib\\site-packages (from requests->tmdbv3api) (2021.10.8)\n",
      "Requirement already satisfied: idna<4,>=2.5 in c:\\users\\user\\anaconda3\\lib\\site-packages (from requests->tmdbv3api) (3.3)\n",
      "Requirement already satisfied: charset-normalizer~=2.0.0 in c:\\users\\user\\anaconda3\\lib\\site-packages (from requests->tmdbv3api) (2.0.4)\n",
      "Installing collected packages: tmdbv3api\n",
      "Successfully installed tmdbv3api-1.7.7\n",
      "Note: you may need to restart the kernel to use updated packages.\n"
     ]
    }
   ],
   "source": [
    "pip install tmdbv3api"
   ]
  },
  {
   "cell_type": "code",
   "execution_count": 2,
   "id": "89a04ef7",
   "metadata": {},
   "outputs": [],
   "source": [
    "from tmdbv3api import Movie, TMDb"
   ]
  },
  {
   "cell_type": "code",
   "execution_count": null,
   "id": "23d1dabc",
   "metadata": {},
   "outputs": [],
   "source": []
  },
  {
   "cell_type": "code",
   "execution_count": null,
   "id": "baeac5e8",
   "metadata": {},
   "outputs": [],
   "source": []
  },
  {
   "cell_type": "code",
   "execution_count": null,
   "id": "2fadfb95",
   "metadata": {},
   "outputs": [],
   "source": []
  },
  {
   "cell_type": "code",
   "execution_count": null,
   "id": "4ed5ef16",
   "metadata": {},
   "outputs": [],
   "source": []
  },
  {
   "cell_type": "code",
   "execution_count": null,
   "id": "184f227c",
   "metadata": {},
   "outputs": [],
   "source": []
  },
  {
   "cell_type": "code",
   "execution_count": null,
   "id": "50d26a8c",
   "metadata": {},
   "outputs": [],
   "source": []
  },
  {
   "cell_type": "code",
   "execution_count": null,
   "id": "ab14d5e6",
   "metadata": {},
   "outputs": [],
   "source": []
  },
  {
   "cell_type": "code",
   "execution_count": null,
   "id": "ccdb9e65",
   "metadata": {},
   "outputs": [],
   "source": []
  },
  {
   "cell_type": "code",
   "execution_count": null,
   "id": "ecd51db5",
   "metadata": {},
   "outputs": [],
   "source": []
  },
  {
   "cell_type": "code",
   "execution_count": null,
   "id": "21930b70",
   "metadata": {},
   "outputs": [],
   "source": []
  },
  {
   "cell_type": "code",
   "execution_count": null,
   "id": "97e14d3b",
   "metadata": {},
   "outputs": [],
   "source": []
  },
  {
   "cell_type": "code",
   "execution_count": null,
   "id": "8eae83d4",
   "metadata": {},
   "outputs": [],
   "source": []
  },
  {
   "cell_type": "code",
   "execution_count": null,
   "id": "107a645b",
   "metadata": {},
   "outputs": [],
   "source": []
  },
  {
   "cell_type": "code",
   "execution_count": null,
   "id": "bc3f9815",
   "metadata": {},
   "outputs": [],
   "source": []
  },
  {
   "cell_type": "code",
   "execution_count": null,
   "id": "0c585550",
   "metadata": {},
   "outputs": [],
   "source": []
  },
  {
   "cell_type": "code",
   "execution_count": null,
   "id": "eabaed98",
   "metadata": {},
   "outputs": [],
   "source": []
  },
  {
   "cell_type": "code",
   "execution_count": null,
   "id": "6f546755",
   "metadata": {},
   "outputs": [],
   "source": []
  },
  {
   "cell_type": "code",
   "execution_count": null,
   "id": "cef8100f",
   "metadata": {},
   "outputs": [],
   "source": []
  },
  {
   "cell_type": "code",
   "execution_count": null,
   "id": "ddf5ad41",
   "metadata": {},
   "outputs": [],
   "source": []
  },
  {
   "cell_type": "code",
   "execution_count": null,
   "id": "da01fad6",
   "metadata": {},
   "outputs": [],
   "source": []
  },
  {
   "cell_type": "code",
   "execution_count": null,
   "id": "8f05377d",
   "metadata": {},
   "outputs": [],
   "source": []
  },
  {
   "cell_type": "code",
   "execution_count": null,
   "id": "5f331789",
   "metadata": {},
   "outputs": [],
   "source": []
  },
  {
   "cell_type": "code",
   "execution_count": null,
   "id": "481fad75",
   "metadata": {},
   "outputs": [],
   "source": []
  },
  {
   "cell_type": "code",
   "execution_count": null,
   "id": "b6909c61",
   "metadata": {},
   "outputs": [],
   "source": []
  },
  {
   "cell_type": "code",
   "execution_count": null,
   "id": "031026d0",
   "metadata": {},
   "outputs": [],
   "source": []
  },
  {
   "cell_type": "code",
   "execution_count": null,
   "id": "d446ade2",
   "metadata": {},
   "outputs": [],
   "source": []
  },
  {
   "cell_type": "code",
   "execution_count": null,
   "id": "16ee7361",
   "metadata": {},
   "outputs": [],
   "source": []
  },
  {
   "cell_type": "code",
   "execution_count": null,
   "id": "5e22c3f8",
   "metadata": {},
   "outputs": [],
   "source": []
  },
  {
   "cell_type": "code",
   "execution_count": null,
   "id": "93ebee6b",
   "metadata": {},
   "outputs": [],
   "source": []
  },
  {
   "cell_type": "code",
   "execution_count": null,
   "id": "542b4eaa",
   "metadata": {},
   "outputs": [],
   "source": []
  },
  {
   "cell_type": "code",
   "execution_count": null,
   "id": "2d812ec9",
   "metadata": {},
   "outputs": [],
   "source": []
  },
  {
   "cell_type": "code",
   "execution_count": null,
   "id": "7ceb74f2",
   "metadata": {},
   "outputs": [],
   "source": []
  },
  {
   "cell_type": "code",
   "execution_count": null,
   "id": "7013eece",
   "metadata": {},
   "outputs": [],
   "source": []
  },
  {
   "cell_type": "code",
   "execution_count": null,
   "id": "e5b50da0",
   "metadata": {},
   "outputs": [],
   "source": []
  },
  {
   "cell_type": "code",
   "execution_count": null,
   "id": "73c20c9f",
   "metadata": {},
   "outputs": [],
   "source": []
  },
  {
   "cell_type": "code",
   "execution_count": null,
   "id": "94c303f1",
   "metadata": {},
   "outputs": [],
   "source": []
  },
  {
   "cell_type": "code",
   "execution_count": null,
   "id": "ce1ef407",
   "metadata": {},
   "outputs": [],
   "source": []
  },
  {
   "cell_type": "code",
   "execution_count": null,
   "id": "97fe3bfc",
   "metadata": {},
   "outputs": [],
   "source": []
  },
  {
   "cell_type": "code",
   "execution_count": null,
   "id": "c7f94bce",
   "metadata": {},
   "outputs": [],
   "source": []
  },
  {
   "cell_type": "code",
   "execution_count": null,
   "id": "6c8bbc52",
   "metadata": {},
   "outputs": [],
   "source": []
  },
  {
   "cell_type": "code",
   "execution_count": null,
   "id": "8db62893",
   "metadata": {},
   "outputs": [],
   "source": []
  },
  {
   "cell_type": "code",
   "execution_count": null,
   "id": "4c6b2224",
   "metadata": {},
   "outputs": [],
   "source": []
  },
  {
   "cell_type": "code",
   "execution_count": null,
   "id": "6f53fd47",
   "metadata": {},
   "outputs": [],
   "source": []
  },
  {
   "cell_type": "code",
   "execution_count": null,
   "id": "7e9468a0",
   "metadata": {},
   "outputs": [],
   "source": []
  },
  {
   "cell_type": "code",
   "execution_count": null,
   "id": "d2058788",
   "metadata": {},
   "outputs": [],
   "source": []
  },
  {
   "cell_type": "code",
   "execution_count": null,
   "id": "ebad7793",
   "metadata": {},
   "outputs": [],
   "source": []
  },
  {
   "cell_type": "code",
   "execution_count": null,
   "id": "443c1189",
   "metadata": {},
   "outputs": [],
   "source": []
  },
  {
   "cell_type": "code",
   "execution_count": null,
   "id": "1138a6d7",
   "metadata": {},
   "outputs": [],
   "source": []
  },
  {
   "cell_type": "code",
   "execution_count": null,
   "id": "e31e8cdd",
   "metadata": {},
   "outputs": [],
   "source": []
  },
  {
   "cell_type": "code",
   "execution_count": null,
   "id": "c67d8e7a",
   "metadata": {},
   "outputs": [],
   "source": []
  },
  {
   "cell_type": "code",
   "execution_count": null,
   "id": "b7e02ab0",
   "metadata": {},
   "outputs": [],
   "source": []
  },
  {
   "cell_type": "code",
   "execution_count": null,
   "id": "1355ca3d",
   "metadata": {},
   "outputs": [],
   "source": []
  },
  {
   "cell_type": "code",
   "execution_count": null,
   "id": "77d3145b",
   "metadata": {},
   "outputs": [],
   "source": []
  },
  {
   "cell_type": "code",
   "execution_count": null,
   "id": "cce7435b",
   "metadata": {},
   "outputs": [],
   "source": []
  },
  {
   "cell_type": "code",
   "execution_count": null,
   "id": "c231f946",
   "metadata": {},
   "outputs": [],
   "source": []
  },
  {
   "cell_type": "code",
   "execution_count": null,
   "id": "1bb30755",
   "metadata": {},
   "outputs": [],
   "source": []
  },
  {
   "cell_type": "code",
   "execution_count": null,
   "id": "6ec5942a",
   "metadata": {},
   "outputs": [],
   "source": []
  },
  {
   "cell_type": "code",
   "execution_count": null,
   "id": "bbb4bce5",
   "metadata": {},
   "outputs": [],
   "source": []
  },
  {
   "cell_type": "code",
   "execution_count": null,
   "id": "7ee7e200",
   "metadata": {},
   "outputs": [],
   "source": []
  },
  {
   "cell_type": "code",
   "execution_count": null,
   "id": "9e844a27",
   "metadata": {},
   "outputs": [],
   "source": []
  },
  {
   "cell_type": "code",
   "execution_count": null,
   "id": "29bafa63",
   "metadata": {},
   "outputs": [],
   "source": []
  },
  {
   "cell_type": "code",
   "execution_count": null,
   "id": "4fbdec7c",
   "metadata": {},
   "outputs": [],
   "source": []
  },
  {
   "cell_type": "code",
   "execution_count": null,
   "id": "59056c09",
   "metadata": {},
   "outputs": [],
   "source": []
  },
  {
   "cell_type": "code",
   "execution_count": null,
   "id": "29a9a2f4",
   "metadata": {},
   "outputs": [],
   "source": []
  },
  {
   "cell_type": "code",
   "execution_count": null,
   "id": "c02c9570",
   "metadata": {},
   "outputs": [],
   "source": []
  },
  {
   "cell_type": "code",
   "execution_count": null,
   "id": "0d4b64f4",
   "metadata": {},
   "outputs": [],
   "source": []
  },
  {
   "cell_type": "code",
   "execution_count": null,
   "id": "84775f63",
   "metadata": {},
   "outputs": [],
   "source": []
  },
  {
   "cell_type": "code",
   "execution_count": null,
   "id": "b96fdf9a",
   "metadata": {},
   "outputs": [],
   "source": []
  },
  {
   "cell_type": "code",
   "execution_count": null,
   "id": "2da4c7fe",
   "metadata": {},
   "outputs": [],
   "source": []
  },
  {
   "cell_type": "code",
   "execution_count": null,
   "id": "8ef9c6a1",
   "metadata": {},
   "outputs": [],
   "source": []
  },
  {
   "cell_type": "code",
   "execution_count": null,
   "id": "3af1e808",
   "metadata": {},
   "outputs": [],
   "source": []
  },
  {
   "cell_type": "code",
   "execution_count": null,
   "id": "509b603a",
   "metadata": {},
   "outputs": [],
   "source": []
  },
  {
   "cell_type": "code",
   "execution_count": null,
   "id": "e00722c2",
   "metadata": {},
   "outputs": [],
   "source": []
  },
  {
   "cell_type": "code",
   "execution_count": null,
   "id": "0a633bbd",
   "metadata": {},
   "outputs": [],
   "source": []
  },
  {
   "cell_type": "code",
   "execution_count": null,
   "id": "e4607b04",
   "metadata": {},
   "outputs": [],
   "source": []
  },
  {
   "cell_type": "code",
   "execution_count": null,
   "id": "623093b7",
   "metadata": {},
   "outputs": [],
   "source": []
  },
  {
   "cell_type": "code",
   "execution_count": null,
   "id": "21babd31",
   "metadata": {},
   "outputs": [],
   "source": []
  },
  {
   "cell_type": "code",
   "execution_count": null,
   "id": "d07c99a9",
   "metadata": {},
   "outputs": [],
   "source": []
  },
  {
   "cell_type": "code",
   "execution_count": null,
   "id": "19be9bc0",
   "metadata": {},
   "outputs": [],
   "source": []
  },
  {
   "cell_type": "code",
   "execution_count": null,
   "id": "165b8a05",
   "metadata": {},
   "outputs": [],
   "source": []
  },
  {
   "cell_type": "code",
   "execution_count": null,
   "id": "70383a40",
   "metadata": {},
   "outputs": [],
   "source": []
  },
  {
   "cell_type": "code",
   "execution_count": null,
   "id": "d0b9c7a8",
   "metadata": {},
   "outputs": [],
   "source": []
  }
 ],
 "metadata": {
  "kernelspec": {
   "display_name": "Python 3 (ipykernel)",
   "language": "python",
   "name": "python3"
  },
  "language_info": {
   "codemirror_mode": {
    "name": "ipython",
    "version": 3
   },
   "file_extension": ".py",
   "mimetype": "text/x-python",
   "name": "python",
   "nbconvert_exporter": "python",
   "pygments_lexer": "ipython3",
   "version": "3.9.12"
  }
 },
 "nbformat": 4,
 "nbformat_minor": 5
}
